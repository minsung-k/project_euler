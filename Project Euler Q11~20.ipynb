{
 "cells": [
  {
   "cell_type": "markdown",
   "metadata": {},
   "source": [
    "### Q11\n",
    "https://projecteuler.net/problem=11"
   ]
  },
  {
   "cell_type": "code",
   "execution_count": 1,
   "metadata": {},
   "outputs": [
    {
     "name": "stdout",
     "output_type": "stream",
     "text": [
      "28894440\n"
     ]
    }
   ],
   "source": [
    "# Q11 python / Not solved\n",
    "\n",
    "a = \"08 02 22 97 38 15 00 40 00 75 04 05 07 78 52 12 50 77 91 08\"\n",
    "b =\"49 49 99 40 17 81 18 57 60 87 17 40 98 43 69 48 04 56 62 00\"\n",
    "c =\"81 49 31 73 55 79 14 29 93 71 40 67 53 88 30 03 49 13 36 65\"\n",
    "d =\"52 70 95 23 04 60 11 42 69 24 68 56 01 32 56 71 37 02 36 91\"\n",
    "e =\"22 31 16 71 51 67 63 89 41 92 36 54 22 40 40 28 66 33 13 80\"\n",
    "f =\"24 47 32 60 99 03 45 02 44 75 33 53 78 36 84 20 35 17 12 50\"\n",
    "g =\"32 98 81 28 64 23 67 10 26 38 40 67 59 54 70 66 18 38 64 70\"\n",
    "h =\"67 26 20 68 02 62 12 20 95 63 94 39 63 08 40 91 66 49 94 21\"\n",
    "i =\"24 55 58 05 66 73 99 26 97 17 78 78 96 83 14 88 34 89 63 72\"\n",
    "j =\"21 36 23 09 75 00 76 44 20 45 35 14 00 61 33 97 34 31 33 95\"\n",
    "k =\"78 17 53 28 22 75 31 67 15 94 03 80 04 62 16 14 09 53 56 92\"\n",
    "l =\"16 39 05 42 96 35 31 47 55 58 88 24 00 17 54 24 36 29 85 57\"\n",
    "m =\"86 56 00 48 35 71 89 07 05 44 44 37 44 60 21 58 51 54 17 58\"\n",
    "n =\"19 80 81 68 05 94 47 69 28 73 92 13 86 52 17 77 04 89 55 40\"\n",
    "o =\"04 52 08 83 97 35 99 16 07 97 57 32 16 26 26 79 33 27 98 66\"\n",
    "p =\"88 36 68 87 57 62 20 72 03 46 33 67 46 55 12 32 63 93 53 69\"\n",
    "q =\"04 42 16 73 38 25 39 11 24 94 72 18 08 46 29 32 40 62 76 36\"\n",
    "r =\"20 69 36 41 72 30 23 88 34 62 99 69 82 67 59 85 74 04 36 16\"\n",
    "s =\"20 73 35 29 78 31 90 01 74 31 49 71 48 86 81 16 23 57 05 54\"\n",
    "t =\"01 70 54 71 83 51 54 69 16 92 33 48 61 43 52 01 89 19 67 48\"\n",
    "\n",
    "total_num = a.split(),b.split(),c.split(),d.split(),e.split(),f.split(),g.split(),h.split(),i.split(),j.split(),k.split(),l.split(),m.split(),n.split(),o.split(),p.split(),q.split(),r.split(),s.split(),t.split()\n",
    "\n",
    "\n",
    "# Q11 python\n",
    "\n",
    "max_hori =0\n",
    "max_ver = 0\n",
    "max_diago_a = 0\n",
    "max_diago_b = 0\n",
    "\n",
    "for i in range(20):\n",
    "    for j in range(17):\n",
    "        \n",
    "        # 수직 곱\n",
    "        first_ver = int(total_num[i][j])\n",
    "        second_ver = int(total_num[i][j+1])\n",
    "        third_ver = int(total_num[i][j+2])\n",
    "        fourth_ver = int(total_num[i][j+3])\n",
    "        \n",
    "        \n",
    "        # 수평 곱\n",
    "        first_hori = int(total_num[j][i])\n",
    "        second_hori = int(total_num[j+1][i])\n",
    "        third_hori = int(total_num[j+2][i])\n",
    "        fourth_hori = int(total_num[j+3][i])\n",
    "        \n",
    "        if not i >=17:\n",
    "            \n",
    "            # 대각 곱\n",
    "            #print(\"i: {0} & j: {1}\".format(i,j))\n",
    "            first_diago_a = int(total_num[j][i])\n",
    "            second_diago_a = int(total_num[j+1][i+1])\n",
    "            third_diago_a = int(total_num[j+2][i+2])\n",
    "            fourth_diago_a = int(total_num[j+3][i+3])\n",
    "            # print(\"i: {0} & j: {1} / first_diago_num: {2} %% second diago_num: {3}\".format(i,j,first_diago_a,second_diago_a))\n",
    "            \n",
    "            # 역 대각 곱\n",
    "            new_i = i+3\n",
    "            \n",
    "            \n",
    "            first_diago_b = int(total_num[j][new_i])\n",
    "            second_diago_b = int(total_num[j+1][new_i-1])\n",
    "            third_diago_b = int(total_num[j+2][new_i-2])\n",
    "            fourth_diago_b = int(total_num[j+3][new_i-3])\n",
    "            # print(\"new_i: {0} & j: {1} / first_diago_num: {2} %% second diago_num: {3}\".format(new_i,j,first_diago_b,second_diago_b))\n",
    "\n",
    "        \n",
    "        total_hori = first_hori * second_hori * third_hori * fourth_hori\n",
    "        total_ver = first_ver * second_ver * third_ver * fourth_ver\n",
    "        total_diago_a = first_diago_a * second_diago_a * third_diago_a * fourth_diago_a\n",
    "        total_diago_b = first_diago_b * second_diago_b * third_diago_b * fourth_diago_b\n",
    "        \n",
    "        if (total_hori > max_hori) or (total_ver>max_ver) or (total_diago_a>max_diago_a) or (total_diago_b > max_diago_b):\n",
    "            max_hori = total_hori\n",
    "            max_ver = total_ver\n",
    "            max_diago_a = total_diago_a\n",
    "            max_diago_b = total_diago_b\n",
    "            \n",
    "print(max(max_hori,max_ver,max_diago_a, max_diago_b))\n"
   ]
  },
  {
   "cell_type": "markdown",
   "metadata": {},
   "source": [
    "### Q 12\n",
    "https://projecteuler.net/problem=12"
   ]
  },
  {
   "cell_type": "code",
   "execution_count": 6,
   "metadata": {
    "scrolled": true
   },
   "outputs": [
    {
     "name": "stdout",
     "output_type": "stream",
     "text": [
      "76576500\n"
     ]
    }
   ],
   "source": [
    "# Q12 python\n",
    "import math\n",
    "\n",
    "num = 1\n",
    "list12 = []\n",
    "breaker = False\n",
    "\n",
    "\n",
    "\n",
    "while True:\n",
    "    # 삼각수 구하기\n",
    "    num = num+1\n",
    "    tri_num =  sum(list(range(1,num)))\n",
    "    \n",
    "    '''\n",
    "    if num % 500 ==0:\n",
    "        print('{0}th number passed'.format(num))\n",
    "   '''     \n",
    "    # 삼각수의 약수\n",
    "    count = 2\n",
    "    \n",
    "    for i in range(2,int((math.sqrt(tri_num))+1)):\n",
    "        if tri_num % i ==0:\n",
    "            count = count + 2\n",
    "\n",
    "            \n",
    "        if math.sqrt(tri_num) == int(math.sqrt(tri_num)):\n",
    "            count = count - 1\n",
    "            \n",
    "    if count >=500:\n",
    "        breaker = True\n",
    "    \n",
    "    if breaker == True:\n",
    "         break\n",
    "            \n",
    "print(tri_num)"
   ]
  },
  {
   "cell_type": "markdown",
   "metadata": {},
   "source": [
    "### Q13\n",
    "https://projecteuler.net/problem=13"
   ]
  },
  {
   "cell_type": "code",
   "execution_count": 8,
   "metadata": {},
   "outputs": [
    {
     "data": {
      "text/plain": [
       "'5537376230'"
      ]
     },
     "execution_count": 8,
     "metadata": {},
     "output_type": "execute_result"
    }
   ],
   "source": [
    "# Q13 python\n",
    "\n",
    "num = '''37107287533902102798797998220837590246510135740250\n",
    "46376937677490009712648124896970078050417018260538\n",
    "74324986199524741059474233309513058123726617309629\n",
    "91942213363574161572522430563301811072406154908250\n",
    "23067588207539346171171980310421047513778063246676\n",
    "89261670696623633820136378418383684178734361726757\n",
    "28112879812849979408065481931592621691275889832738\n",
    "44274228917432520321923589422876796487670272189318\n",
    "47451445736001306439091167216856844588711603153276\n",
    "70386486105843025439939619828917593665686757934951\n",
    "62176457141856560629502157223196586755079324193331\n",
    "64906352462741904929101432445813822663347944758178\n",
    "92575867718337217661963751590579239728245598838407\n",
    "58203565325359399008402633568948830189458628227828\n",
    "80181199384826282014278194139940567587151170094390\n",
    "35398664372827112653829987240784473053190104293586\n",
    "86515506006295864861532075273371959191420517255829\n",
    "71693888707715466499115593487603532921714970056938\n",
    "54370070576826684624621495650076471787294438377604\n",
    "53282654108756828443191190634694037855217779295145\n",
    "36123272525000296071075082563815656710885258350721\n",
    "45876576172410976447339110607218265236877223636045\n",
    "17423706905851860660448207621209813287860733969412\n",
    "81142660418086830619328460811191061556940512689692\n",
    "51934325451728388641918047049293215058642563049483\n",
    "62467221648435076201727918039944693004732956340691\n",
    "15732444386908125794514089057706229429197107928209\n",
    "55037687525678773091862540744969844508330393682126\n",
    "18336384825330154686196124348767681297534375946515\n",
    "80386287592878490201521685554828717201219257766954\n",
    "78182833757993103614740356856449095527097864797581\n",
    "16726320100436897842553539920931837441497806860984\n",
    "48403098129077791799088218795327364475675590848030\n",
    "87086987551392711854517078544161852424320693150332\n",
    "59959406895756536782107074926966537676326235447210\n",
    "69793950679652694742597709739166693763042633987085\n",
    "41052684708299085211399427365734116182760315001271\n",
    "65378607361501080857009149939512557028198746004375\n",
    "35829035317434717326932123578154982629742552737307\n",
    "94953759765105305946966067683156574377167401875275\n",
    "88902802571733229619176668713819931811048770190271\n",
    "25267680276078003013678680992525463401061632866526\n",
    "36270218540497705585629946580636237993140746255962\n",
    "24074486908231174977792365466257246923322810917141\n",
    "91430288197103288597806669760892938638285025333403\n",
    "34413065578016127815921815005561868836468420090470\n",
    "23053081172816430487623791969842487255036638784583\n",
    "11487696932154902810424020138335124462181441773470\n",
    "63783299490636259666498587618221225225512486764533\n",
    "67720186971698544312419572409913959008952310058822\n",
    "95548255300263520781532296796249481641953868218774\n",
    "76085327132285723110424803456124867697064507995236\n",
    "37774242535411291684276865538926205024910326572967\n",
    "23701913275725675285653248258265463092207058596522\n",
    "29798860272258331913126375147341994889534765745501\n",
    "18495701454879288984856827726077713721403798879715\n",
    "38298203783031473527721580348144513491373226651381\n",
    "34829543829199918180278916522431027392251122869539\n",
    "40957953066405232632538044100059654939159879593635\n",
    "29746152185502371307642255121183693803580388584903\n",
    "41698116222072977186158236678424689157993532961922\n",
    "62467957194401269043877107275048102390895523597457\n",
    "23189706772547915061505504953922979530901129967519\n",
    "86188088225875314529584099251203829009407770775672\n",
    "11306739708304724483816533873502340845647058077308\n",
    "82959174767140363198008187129011875491310547126581\n",
    "97623331044818386269515456334926366572897563400500\n",
    "42846280183517070527831839425882145521227251250327\n",
    "55121603546981200581762165212827652751691296897789\n",
    "32238195734329339946437501907836945765883352399886\n",
    "75506164965184775180738168837861091527357929701337\n",
    "62177842752192623401942399639168044983993173312731\n",
    "32924185707147349566916674687634660915035914677504\n",
    "99518671430235219628894890102423325116913619626622\n",
    "73267460800591547471830798392868535206946944540724\n",
    "76841822524674417161514036427982273348055556214818\n",
    "97142617910342598647204516893989422179826088076852\n",
    "87783646182799346313767754307809363333018982642090\n",
    "10848802521674670883215120185883543223812876952786\n",
    "71329612474782464538636993009049310363619763878039\n",
    "62184073572399794223406235393808339651327408011116\n",
    "66627891981488087797941876876144230030984490851411\n",
    "60661826293682836764744779239180335110989069790714\n",
    "85786944089552990653640447425576083659976645795096\n",
    "66024396409905389607120198219976047599490197230297\n",
    "64913982680032973156037120041377903785566085089252\n",
    "16730939319872750275468906903707539413042652315011\n",
    "94809377245048795150954100921645863754710598436791\n",
    "78639167021187492431995700641917969777599028300699\n",
    "15368713711936614952811305876380278410754449733078\n",
    "40789923115535562561142322423255033685442488917353\n",
    "44889911501440648020369068063960672322193204149535\n",
    "41503128880339536053299340368006977710650566631954\n",
    "81234880673210146739058568557934581403627822703280\n",
    "82616570773948327592232845941706525094512325230608\n",
    "22918802058777319719839450180888072429661980811197\n",
    "77158542502016545090413245809786882778948721859617\n",
    "72107838435069186155435662884062257473692284509516\n",
    "20849603980134001723930671666823555245252804609722\n",
    "53503534226472524250874054075591789781264330331690'''\n",
    "\n",
    "total_num = num.replace('\\n','')\n",
    "\n",
    "sum_of_num = 0\n",
    "for i in range(100):\n",
    "    num = total_num[i*50:(i+1)*50]\n",
    "\n",
    "    num = int(float(num))\n",
    "    sum_of_num += num\n",
    "str(sum_of_num)[:10]"
   ]
  },
  {
   "cell_type": "markdown",
   "metadata": {},
   "source": [
    "### Q14\n",
    "https://projecteuler.net/problem=14"
   ]
  },
  {
   "cell_type": "code",
   "execution_count": 101,
   "metadata": {
    "scrolled": false
   },
   "outputs": [
    {
     "name": "stdout",
     "output_type": "stream",
     "text": [
      "837799\n"
     ]
    }
   ],
   "source": [
    "# Q14 python\n",
    "\n",
    "counting_num = 0\n",
    "max_count = 0\n",
    "count = 1\n",
    "\n",
    "while counting_num<= 1000000:\n",
    "    \n",
    "    counting_num +=1\n",
    "    num = counting_num\n",
    "    #temp = [num]\n",
    "    \n",
    "    '''\n",
    "    if counting_num % 50000 ==0:\n",
    "        print(\"{0}th passed\".format(counting_num))\n",
    "    '''\n",
    "    \n",
    "    while num>1:\n",
    "        if num% 2 ==0:\n",
    "            num = num/2\n",
    "            count +=1\n",
    "            #temp.append(num)\n",
    "\n",
    "        else:\n",
    "            num = 3*num +1\n",
    "            count +=1\n",
    "            #temp.append(num)\n",
    "\n",
    "       \n",
    "\n",
    "    \n",
    "    \n",
    "        if num ==1:\n",
    "            #print(\"counting_num: {0} & count:{1} & temp: {2}\".format(counting_num,count, temp))\n",
    "            \n",
    "            if count>max_count:\n",
    "                max_count = count\n",
    "                max_num = counting_num\n",
    "                \n",
    "            \n",
    "            count = 1\n",
    "    \n",
    "    \n",
    "print(max_num)"
   ]
  },
  {
   "cell_type": "markdown",
   "metadata": {},
   "source": [
    "### Q15\n",
    "https://projecteuler.net/problem=15"
   ]
  },
  {
   "cell_type": "code",
   "execution_count": 20,
   "metadata": {},
   "outputs": [
    {
     "name": "stdout",
     "output_type": "stream",
     "text": [
      "137846528820.00003\n"
     ]
    }
   ],
   "source": [
    "# Q15 python\n",
    "\n",
    "total = 1\n",
    "for j in range(21,41):\n",
    "    total = total*j\n",
    "    \n",
    "for i in range(1,21):\n",
    "    total = total/i\n",
    "\n",
    "print(total)"
   ]
  },
  {
   "cell_type": "markdown",
   "metadata": {},
   "source": [
    "### Q 16\n",
    "https://projecteuler.net/problem=16"
   ]
  },
  {
   "cell_type": "code",
   "execution_count": 26,
   "metadata": {},
   "outputs": [
    {
     "name": "stdout",
     "output_type": "stream",
     "text": [
      "1366\n"
     ]
    }
   ],
   "source": [
    "# Q16 python\n",
    "\n",
    "for i in range(1,1001):\n",
    "    a = 2**i\n",
    "    b = str(a)\n",
    "    temp = []\n",
    "    for j in range(len(b)):\n",
    "        c = int(b[j])\n",
    "        temp.append(c)\n",
    "        d = sum(temp)\n",
    "    #print('2의 {2}승 {0} & 각 자리수 합 {1}'.format(a,d,i))\n",
    "print(d)"
   ]
  },
  {
   "cell_type": "markdown",
   "metadata": {},
   "source": [
    "### Q17\n",
    "https://projecteuler.net/problem=17"
   ]
  },
  {
   "cell_type": "code",
   "execution_count": 140,
   "metadata": {},
   "outputs": [
    {
     "name": "stdout",
     "output_type": "stream",
     "text": [
      "854\n",
      "854\n",
      "18451\n"
     ]
    }
   ],
   "source": [
    "# Q17 python / Not solved\n",
    "\n",
    "dict_num = {0:'',1:'one', 2:'two', 3:'three',4: 'four' , 5: 'five',6:'six',7:'seven',8:'eight',9:'nine'}\n",
    "dict_tenth = {11:'eleven',12:'twelve',13:'thirteen',14:'fourteen',15:'fifteen',16:'sixteen',17:'seventeen',18:'eighteen',19:'nineteen'}\n",
    "dict_2nd = {'1':'ten','2':'twenty', '3':'thirty','4':'forty','5':'fifty','6':'sixty','7':'seventy','8':'eighty','9':'ninety'}\n",
    "dict_position = {3:'hundred',4:'thousand'}\n",
    "\n",
    "total_count = 0\n",
    "sentence = ''\n",
    "\n",
    "for i in range(1,100):\n",
    "    num_count = 0\n",
    "    \n",
    "    if i <10:\n",
    "        sentence = dict_num[i]\n",
    "        num_count = num_count +len(sentence.strip())\n",
    "        #print('{0} & {1}'.format(sentence, num_count))\n",
    "        \n",
    "    elif 10<i<20:\n",
    "        sentence = dict_tenth[i]\n",
    "        num_count = num_count +len(sentence.strip()) \n",
    "        #print('{0} & {1}'.format(sentence, num_count))\n",
    "        \n",
    "    elif (i % 10 ==0):\n",
    "        new_i = str(i)\n",
    "        \n",
    "        if len(new_i) == 2:\n",
    "            sentence = dict_2nd[new_i[0]]\n",
    "            num_count = num_count +len(sentence.strip())\n",
    "            #print('{0} & {1}'.format(sentence, num_count))\n",
    "            \n",
    "    elif 20<=i<100:\n",
    "        new_i = str(i)\n",
    "        sentence = dict_2nd[new_i[0]] + '-' +dict_num[int(new_i[1])]\n",
    "        num_count = num_count  + len(dict_2nd[new_i[0]]) + len(dict_num[int(new_i[1])])\n",
    "        #print('{0} & {1}'.format(sentence, num_count))\n",
    "            \n",
    "    total_count += num_count\n",
    "print(total_count)\n",
    "\n",
    "total_count1 = 0\n",
    "sentence = ''\n",
    "\n",
    "for i in range(100,1001):\n",
    "    num_count = 0\n",
    "    \n",
    "    str_i = str(i)\n",
    "    \n",
    "    # 101~109 201~209 ...\n",
    "    if 0<int(str_i[1:])<=9:\n",
    "        sentence = dict_num[int(str_i[0])] +\" \"+ dict_position[len(str_i)]+\" \" + dict_num[int(str_i[2])]\n",
    "        num_count = num_count +len(sentence.replace(\" \",\"\"))\n",
    "        #print('{0} & {1}'.format(sentence, num_count))\n",
    "        \n",
    "    # 100, 200, 300 ...\n",
    "    elif i % 100==0:\n",
    "        if len(str_i)==3:\n",
    "            sentence = dict_num[int(str_i[0])] +\" \" + dict_position[len(str_i)] \n",
    "            num_count = num_count +len(sentence.replace(\" \",\"\"))\n",
    "            #print('{0} & {1}'.format(sentence, num_count))\n",
    "        \n",
    "        # 1000\n",
    "        else:\n",
    "            sentence = dict_num[int(str_i[0])] +\" \" + dict_position[len(str_i)] \n",
    "            num_count = num_count +len(sentence.replace(\" \",\"\"))\n",
    "            #print('{0} & {1}'.format(sentence, num_count))\n",
    "        \n",
    "        \n",
    "    \n",
    "    # 110 210 310 410 ...\n",
    "    elif int(str_i[1:])==10:\n",
    "        sentence = dict_num[int(str_i[0])] +\" \" + dict_position[len(str_i)] + \" \" +'ten'\n",
    "        num_count = num_count +len(sentence.replace(\" \",\"\"))\n",
    "        # print('{0} & {1}'.format(sentence, num_count))\n",
    "    \n",
    "    # 111, 112, ... ,119 ,911, 912 , ...\n",
    "    elif 10<int(str_i[1:])<=19:\n",
    "        sentence = dict_num[int(str_i[0])] +\" \" + dict_position[len(str_i)] + \" \" + dict_tenth[int(str_i[1:])]\n",
    "        num_count = num_count +len(sentence.replace(\" \",\"\"))\n",
    "        #print('{0} & {1}'.format(sentence, num_count))\n",
    "        \n",
    "    else:\n",
    "\n",
    "        sentence = dict_num[int(str_i[0])] +\" \" + dict_position[len(str_i)] + \" \" + dict_2nd[str_i[1]]+' '+ dict_num[int(str_i[2])]\n",
    "        num_count = num_count +len(sentence.replace(\" \",\"\"))\n",
    "        #print('{0} & {1}'.format(sentence, num_count))\n",
    "        \n",
    "        \n",
    "    total_count1 = total_count1 + num_count\n",
    "print(total_count)\n",
    "\n",
    "\n",
    "print(total_count + total_count1)"
   ]
  },
  {
   "cell_type": "markdown",
   "metadata": {},
   "source": [
    "### Q18\n",
    "https://projecteuler.net/problem=18"
   ]
  },
  {
   "cell_type": "code",
   "execution_count": 84,
   "metadata": {},
   "outputs": [
    {
     "data": {
      "text/plain": [
       "1074"
      ]
     },
     "execution_count": 84,
     "metadata": {},
     "output_type": "execute_result"
    }
   ],
   "source": [
    "# Q18 python\n",
    "\n",
    "data = \"\"\"75\n",
    "95 64\n",
    "17 47 82\n",
    "18 35 87 10\n",
    "20 04 82 47 65\n",
    "19 01 23 75 03 34\n",
    "88 02 77 73 07 63 67\n",
    "99 65 04 28 06 16 70 92\n",
    "41 41 26 56 83 40 80 70 33\n",
    "41 48 72 33 47 32 37 16 94 29\n",
    "53 71 44 65 25 43 91 52 97 51 14\n",
    "70 11 33 28 77 73 17 78 39 68 17 57\n",
    "91 71 52 38 17 14 91 43 58 50 27 29 48\n",
    "63 66 04 68 89 53 67 30 73 16 69 87 40 31\n",
    "04 62 98 27 23 09 70 98 73 93 38 53 60 04 23\"\"\"\n",
    "\n",
    "data = data.split()\n",
    "\n",
    "temp=[]\n",
    "a=0\n",
    "for i in range(1,16):\n",
    "    #print(data[sum:sum+i])\n",
    "    temp.append(data[a:a+i])\n",
    "    a+=i\n",
    "new_temp = temp\n",
    "\n",
    "for i in range(1,15):\n",
    "    for j in range(15):\n",
    "    \n",
    "        if (j==0):         \n",
    "            new_temp[i][j] = int(temp[i-1][j]) + int(temp[i][j])\n",
    "\n",
    "        elif (j==i):\n",
    "            new_temp[i][j] = int(temp[i-1][j-1]) + int(temp[i][j])\n",
    "         \n",
    "\n",
    "        elif i>j:\n",
    "            new_temp[i][j] = int(max(temp[i-1][j-1],temp[i-1][j])) + int(temp[i][j])\n",
    "            \n",
    "        else:\n",
    "            break\n",
    "\n",
    "max(new_temp[14])"
   ]
  },
  {
   "cell_type": "markdown",
   "metadata": {},
   "source": [
    "### Q19\n",
    "https://projecteuler.net/problem=19"
   ]
  },
  {
   "cell_type": "code",
   "execution_count": 127,
   "metadata": {},
   "outputs": [
    {
     "name": "stdout",
     "output_type": "stream",
     "text": [
      "171\n"
     ]
    }
   ],
   "source": [
    "# Q19 python\n",
    "\n",
    "day_counts = {1:'월',2:'화',3:'수',4:'목',5:'금',6:'토',0:'일'}\n",
    "months = {1:31,2:28,3:31,4:30,5:31,6:30,7:31,8:31,9:30,10:31,11:30,12:31}\n",
    "leap_year = []\n",
    "\n",
    "day_count_num = 2\n",
    "day = 1\n",
    "\n",
    "day_sunday = 0\n",
    "\n",
    "\n",
    "\n",
    "for year in range(1901,2001):\n",
    "    months[2] = 28\n",
    "    total_year_days = sum(months.values())\n",
    "\n",
    "    if (year % 4 ==0):\n",
    "        leap_year.append(year)\n",
    "\n",
    "        if year % 100 ==0:\n",
    "            del leap_year[-1]\n",
    "\n",
    "        if (year % 400==0):\n",
    "\n",
    "            leap_year.append(year)\n",
    "\n",
    "    if year in leap_year:\n",
    "        months[2] = 29\n",
    "        total_year_days = sum(months.values())\n",
    "\n",
    "\n",
    "    for month in range(1,13):\n",
    "\n",
    "\n",
    "\n",
    "        while months[month] >= day:\n",
    "\n",
    "            day_count = day_counts[day_count_num % 7]\n",
    "\n",
    "            #print('{0}년 {1}월 {2}일 {3}요일'.format(year,month,day,day_count))\n",
    "            \n",
    "            if (day==1) & (day_count_num%7 ==0):\n",
    "                \n",
    "                day_sunday += 1\n",
    "                \n",
    "\n",
    "            day = day+ 1                \n",
    "            day_count_num = day_count_num + 1\n",
    "\n",
    "        else:\n",
    "            day = 1\n",
    "\n",
    "\n",
    "\n",
    "            if day == total_year_days:\n",
    "                break\n",
    "\n",
    "\n",
    "print(day_sunday)"
   ]
  },
  {
   "cell_type": "markdown",
   "metadata": {},
   "source": [
    "### Q20\n",
    "https://projecteuler.net/problem=20"
   ]
  },
  {
   "cell_type": "code",
   "execution_count": 139,
   "metadata": {},
   "outputs": [
    {
     "name": "stdout",
     "output_type": "stream",
     "text": [
      "648\n"
     ]
    }
   ],
   "source": [
    "# Q20 python\n",
    "\n",
    "mul = 1\n",
    "for i in range(1,101):\n",
    "    mul = mul * i\n",
    "char = str(mul)\n",
    "\n",
    "total_sum = 0\n",
    "for i in range(len(char)):\n",
    "    total_sum += int(char[i])\n",
    "\n",
    "print(total_sum)"
   ]
  },
  {
   "cell_type": "code",
   "execution_count": null,
   "metadata": {},
   "outputs": [],
   "source": []
  }
 ],
 "metadata": {
  "kernelspec": {
   "display_name": "Python 3",
   "language": "python",
   "name": "python3"
  },
  "language_info": {
   "codemirror_mode": {
    "name": "ipython",
    "version": 3
   },
   "file_extension": ".py",
   "mimetype": "text/x-python",
   "name": "python",
   "nbconvert_exporter": "python",
   "pygments_lexer": "ipython3",
   "version": "3.7.6"
  }
 },
 "nbformat": 4,
 "nbformat_minor": 4
}
