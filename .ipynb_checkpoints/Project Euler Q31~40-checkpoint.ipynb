{
 "cells": [
  {
   "cell_type": "markdown",
   "metadata": {},
   "source": [
    "# Q31\n",
    "http://projecteuler.net/problem=31"
   ]
  },
  {
   "cell_type": "code",
   "execution_count": 2,
   "metadata": {},
   "outputs": [
    {
     "name": "stdout",
     "output_type": "stream",
     "text": [
      "73682\n"
     ]
    }
   ],
   "source": [
    "#  refer to http://solvingeuler.blogspot.com/2015/05/project-euler-31.html\n",
    "\n",
    "c = [1,2,5,10,20,50,100,200]\n",
    "s = {i:0 for i in range(1,201)}\n",
    "for i in c:\n",
    "    s[i] += 1\n",
    "    for j in range(i+1,201):\n",
    "        s[j] += s[j-i]\n",
    "        \n",
    "print(s[200])"
   ]
  },
  {
   "cell_type": "markdown",
   "metadata": {},
   "source": [
    "### Q32\n",
    "https://projecteuler.net/problem=32"
   ]
  },
  {
   "cell_type": "code",
   "execution_count": 11,
   "metadata": {},
   "outputs": [
    {
     "ename": "TypeError",
     "evalue": "'str' object is not callable",
     "output_type": "error",
     "traceback": [
      "\u001b[1;31m---------------------------------------------------------------------------\u001b[0m",
      "\u001b[1;31mTypeError\u001b[0m                                 Traceback (most recent call last)",
      "\u001b[1;32m<ipython-input-11-530f066002d3>\u001b[0m in \u001b[0;36m<module>\u001b[1;34m\u001b[0m\n\u001b[0;32m     13\u001b[0m \u001b[1;33m\u001b[0m\u001b[0m\n\u001b[0;32m     14\u001b[0m             \u001b[0mstr_j\u001b[0m \u001b[1;33m=\u001b[0m \u001b[0mstr\u001b[0m\u001b[1;33m(\u001b[0m\u001b[0mj\u001b[0m\u001b[1;33m)\u001b[0m\u001b[1;33m\u001b[0m\u001b[1;33m\u001b[0m\u001b[0m\n\u001b[1;32m---> 15\u001b[1;33m             \u001b[0mdict32\u001b[0m\u001b[1;33m[\u001b[0m\u001b[0mstr_j\u001b[0m\u001b[1;33m(\u001b[0m\u001b[0ma\u001b[0m \u001b[1;32mfor\u001b[0m \u001b[0ma\u001b[0m \u001b[1;32min\u001b[0m \u001b[0mrange\u001b[0m\u001b[1;33m(\u001b[0m\u001b[1;36m0\u001b[0m\u001b[1;33m,\u001b[0m\u001b[1;36m4\u001b[0m\u001b[1;33m)\u001b[0m\u001b[1;33m)\u001b[0m\u001b[1;33m]\u001b[0m \u001b[1;33m+=\u001b[0m\u001b[1;36m1\u001b[0m\u001b[1;33m\u001b[0m\u001b[1;33m\u001b[0m\u001b[0m\n\u001b[0m\u001b[0;32m     16\u001b[0m \u001b[1;33m\u001b[0m\u001b[0m\n",
      "\u001b[1;31mTypeError\u001b[0m: 'str' object is not callable"
     ]
    }
   ],
   "source": [
    "# Q32 python\n",
    "\n",
    "# cannot solve\n"
   ]
  },
  {
   "cell_type": "markdown",
   "metadata": {},
   "source": [
    "### Q33\n",
    "https://projecteuler.net/problem=33"
   ]
  },
  {
   "cell_type": "code",
   "execution_count": 64,
   "metadata": {},
   "outputs": [],
   "source": [
    "# Q33 python\n",
    "\n",
    "\n",
    "# 분자 10의자리 & 분모 10의 자리 같을 경우\n",
    "def Q33_00(str_i, str_j, result):\n",
    "    result = str_j + '/' + str_i\n",
    "    return result\n",
    "\n",
    "\n",
    "# 분자 1의자리 & 분모 1의 자리 같을 경우\n",
    "def Q33_11(str_i, str_j, result):\n",
    "    result = str_j + '/' + str_i\n",
    "    return result\n",
    "    \n",
    "# 분자 1의자리 & 분모 10의 자리 같을 경우\n",
    "def Q33_10(str_i, str_j, result):\n",
    "    result = str_j + '/' + str_i\n",
    "    return result\n",
    "        \n",
    "# 분자 10의자리 & 분모 1의 자리 같을 경우\n",
    "def Q33_01(str_i, str_j, result):\n",
    "    result = str_j + '/' + str_i\n",
    "    return result\n",
    "\n",
    "temp = []\n",
    "result = 0\n",
    "\n",
    "for i in range(11,100):\n",
    "    for j in range(10,i):\n",
    "        \n",
    "        str_i = str(i)\n",
    "        str_j = str(j)\n",
    "        \n",
    "        if str_j[0] == str_i[0]:\n",
    "            if not int(str_j[1]) ==0 & int(str_i[1])==0:        \n",
    "                if int(str_j[1]) / int(str_i[1]) == j/i:\n",
    "                    number = Q33_00(str_i,str_j,result)\n",
    "                    temp.append(number)\n",
    "\n",
    "        elif str_j[1] == str_i[1]:\n",
    "            if not int(str_j[1]) ==0 & int(str_i[1])==0:     \n",
    "                 if int(str_j[0]) / int(str_i[0]) == j/i:\n",
    "                    number = Q33_11(str_i,str_j, result)\n",
    "                    temp.append(number)\n",
    "            \n",
    "        elif str_j[1] == str_i[0]:\n",
    "            if not int(str_i[1])==0:\n",
    "                if int(str_j[0]) / int(str_i[1]) == j/i:\n",
    "                    number = Q33_10(str_i,str_j, result)\n",
    "                    temp.append(number)\n",
    "        \n",
    "        elif str_j[0] == str_i[1]:\n",
    "                if int(str_j[1]) / int(str_i[0]) == j/i:\n",
    "                    number = Q33_01(str_i,str_j, result)\n",
    "                    temp.append(number)\n",
    "\n",
    "                    \n",
    "print(temp)\n",
    "\n",
    "\n",
    "# find answer\n",
    "\n",
    "sum_denominator = 1\n",
    "sum_numberator = 1\n",
    "\n",
    "for list_num in range(len(temp)):\n",
    "    num = temp[list_num]\n",
    "    denominator = int(num[:2])\n",
    "    numerator = int(num[3:])\n",
    "    \n",
    "    sum_denominator = sum_denominator * denominator\n",
    "    sum_numberator = sum_numberator * numerator\n",
    "\n",
    "answer = sum_numberator / sum_denominator\n",
    "print(answer)    "
   ]
  },
  {
   "cell_type": "markdown",
   "metadata": {},
   "source": [
    "### Q34\n",
    "https://projecteuler.net/problem=34"
   ]
  },
  {
   "cell_type": "code",
   "execution_count": 81,
   "metadata": {},
   "outputs": [
    {
     "data": {
      "text/plain": [
       "120"
      ]
     },
     "execution_count": 81,
     "metadata": {},
     "output_type": "execute_result"
    }
   ],
   "source": [
    "math.factorial(5)"
   ]
  },
  {
   "cell_type": "code",
   "execution_count": 101,
   "metadata": {},
   "outputs": [
    {
     "name": "stdout",
     "output_type": "stream",
     "text": [
      "145 / 145\n",
      "40585 / 40585\n",
      "40730\n"
     ]
    }
   ],
   "source": [
    "# Q34 python\n",
    "# IDK the exact limit.\n",
    "\n",
    "import math\n",
    "\n",
    "n= 9\n",
    "temp = []\n",
    "\n",
    "while True:\n",
    "    n = n+1\n",
    "    num = str(n)\n",
    "    Q34_sum = 0\n",
    "    \n",
    "    for i in range(len(num)):\n",
    "        count_num = int(num[i])\n",
    "        factorial_num = math.factorial(count_num)\n",
    "        Q34_sum = Q34_sum + factorial_num\n",
    "        \n",
    "    \n",
    "    if Q34_sum == n:\n",
    "        \n",
    "        print('{0} / {1}'.format(n, Q34_sum))\n",
    "        temp.append(n)\n",
    "    \n",
    "    if n >41000:\n",
    "        break\n",
    "        \n",
    "        \n",
    "sum = 0\n",
    "for i in range(len(temp)):\n",
    "    sum = sum + int(temp[i])\n",
    "    \n",
    "print(sum)"
   ]
  },
  {
   "cell_type": "markdown",
   "metadata": {},
   "source": [
    "### Q35\n",
    "https://projecteuler.net/problem=35"
   ]
  },
  {
   "cell_type": "code",
   "execution_count": 124,
   "metadata": {},
   "outputs": [
    {
     "data": {
      "text/plain": [
       "3"
      ]
     },
     "execution_count": 124,
     "metadata": {},
     "output_type": "execute_result"
    }
   ],
   "source": [
    "int(math.sqrt(9))"
   ]
  },
  {
   "cell_type": "code",
   "execution_count": 134,
   "metadata": {},
   "outputs": [],
   "source": [
    "# Q35 python\n",
    "\n",
    "from sympy import isprime\n",
    "\n",
    "temp = []\n",
    "for i in range(2,1000000):\n",
    "    if isprime(i):\n",
    "        \n",
    "        string = str(i)\n",
    "        size= len(string)\n",
    "        \n",
    "        new_num_prime = True\n",
    "        \n",
    "        for j in range(1,size):\n",
    "            new_string = string[j:] + string[:j]\n",
    "            new_num = int(new_string)\n",
    "            \n",
    "            if isprime(new_num)==False:\n",
    "                new_num_prime= False\n",
    "                \n",
    "            if new_num_prime == False:\n",
    "                break\n",
    "            \n",
    "        if new_num_prime == True:\n",
    "            temp.append(i)\n",
    "\n",
    "len(temp)"
   ]
  },
  {
   "cell_type": "markdown",
   "metadata": {},
   "source": [
    "### Q36\n",
    "https://projecteuler.net/problem=36"
   ]
  },
  {
   "cell_type": "code",
   "execution_count": 70,
   "metadata": {},
   "outputs": [
    {
     "data": {
      "text/plain": [
       "872187"
      ]
     },
     "execution_count": 70,
     "metadata": {},
     "output_type": "execute_result"
    }
   ],
   "source": [
    "# Q36 python\n",
    "\n",
    "# 함수 구간\n",
    "def Q36_even_check(num):\n",
    "    result_list = []\n",
    "    list_num = list( str(num))\n",
    "    half = int(len(list_num) /2)\n",
    "    if list_num==1: half=1\n",
    "    \n",
    "    for k in range(half):\n",
    "        if list_num.pop(0) == list_num.pop():\n",
    "            result_list.append(True)\n",
    "        else:\n",
    "            result_list.append(False)\n",
    "\n",
    "    if result_list.count(False)>0:\n",
    "        \n",
    "        \n",
    "        return False\n",
    "    \n",
    "    else:\n",
    "        return True\n",
    "    \n",
    "def Q36_odd_check(num):\n",
    "    result_list = []\n",
    "    list_num = list(str(num))\n",
    "    half = int(len(list_num) /2)\n",
    "    if list_num==1: half=1\n",
    "    \n",
    "    for k in range(half):\n",
    "        if list_num.pop(0) == list_num.pop():\n",
    "            result_list.append(True)\n",
    "        else:\n",
    "            result_list.append(False)\n",
    "            \n",
    "    if result_list.count(False)>0:\n",
    "        \n",
    "        return False\n",
    "    \n",
    "    else:\n",
    "        return True\n",
    "\n",
    "# 본 코드\n",
    "\n",
    "temp = []\n",
    "\n",
    "for i in range(1000000):\n",
    "    bin_i = int(bin(i)[2:])\n",
    "    if i %2==0:\n",
    "        result = Q36_even_check(i)\n",
    "    else:\n",
    "        result = Q36_odd_check(i)\n",
    "        \n",
    "    \n",
    "        \n",
    "    if bin_i % 2==0:\n",
    "        bin_result = Q36_even_check(bin_i)\n",
    "    else:\n",
    "        bin_result = Q36_odd_check(bin_i)\n",
    "\n",
    "        \n",
    "\n",
    "    #print(\"{0} / {1} // {2} / {3}\".format(result,i,bin_result,bin_i))\n",
    "    if result == True & bin_result ==True:\n",
    "        temp.append(i)\n",
    "\n",
    "sum(temp)"
   ]
  },
  {
   "cell_type": "markdown",
   "metadata": {},
   "source": [
    "### Q37\n",
    "https://projecteuler.net/problem=37"
   ]
  },
  {
   "cell_type": "code",
   "execution_count": 160,
   "metadata": {},
   "outputs": [],
   "source": [
    "# Q37 python\n",
    "\n",
    "def Q37_make_list(num):\n",
    "\n",
    "    temp = []\n",
    "    temp_back = []\n",
    "    \n",
    "    str_num = str(num)\n",
    "    \n",
    "    num_copy = str_num\n",
    "    num_copy2=str_num\n",
    "    \n",
    "    for i in range(len(str_num)):\n",
    "        \n",
    "        temp.append(num_copy[:-(i+1)])\n",
    "        temp_back.append(num_copy2[(i+1):])\n",
    "\n",
    "        if i == (len(str_num)-1):\n",
    "            temp.pop()\n",
    "            temp_back.pop()\n",
    "        \n",
    "    result = temp + temp_back\n",
    "    \n",
    "    return result\n",
    "\n",
    "def Q37_check_prime(temp):\n",
    "    result_list = []\n",
    "    \n",
    "    for k in range(len(temp)):\n",
    "        if isprime(int(temp[k])):\n",
    "            result_list.append(True)\n",
    "        else: result_list.append(False)\n",
    "        \n",
    "    if result_list.count(False)>0:\n",
    "        return False\n",
    "    else: return True\n",
    "\n",
    "    \n",
    "    \n",
    "from sympy import isprime\n",
    "\n",
    "count = 1\n",
    "number = 10\n",
    "all_prime_list = []\n",
    "while count <= 11:\n",
    "    \n",
    "    number = number +1\n",
    "    if isprime(number):\n",
    "        temp = Q37_make_list(number)\n",
    "        result =Q37_check_prime(temp)\n",
    "        \n",
    "        if result:\n",
    "            print('{0} is {1} all prime number'.format(number,count))\n",
    "            all_prime_list.append(number)\n",
    "            count = count+1\n",
    "            \n",
    "    if number % 10000 ==0:\n",
    "        print('{0} passed'.format(number))\n",
    "        \n",
    "\n",
    "sum(all_prime_list)"
   ]
  },
  {
   "cell_type": "markdown",
   "metadata": {},
   "source": [
    "### Q38\n",
    "https://projecteuler.net/problem=38"
   ]
  },
  {
   "cell_type": "code",
   "execution_count": 204,
   "metadata": {},
   "outputs": [
    {
     "name": "stdout",
     "output_type": "stream",
     "text": [
      "number: 9327 /pandigital: 932718654 \n"
     ]
    }
   ],
   "source": [
    "# Q38 python\n",
    "\n",
    "answer_list = []\n",
    "pand_list = []\n",
    "for i in range(1,10000):\n",
    "    str_num = str(i)\n",
    "    j = 2\n",
    "    while True:\n",
    "        \n",
    "        cand_num = str(i * j)\n",
    "        \n",
    "        str_num = str_num + cand_num\n",
    "        # print('{0} / {1} / {2} / {3}'.format(i,j,cand_num,str_num))\n",
    "        j = j+1\n",
    "\n",
    "        if len(str_num) ==9:\n",
    "            \n",
    "            str_num_list = list(str_num)\n",
    "\n",
    "            if set(str_num_list) == set(['1','2','3','4','5','6','7','8','9']):\n",
    "                answer_list.append(i)\n",
    "                pand_list.append(str_num)\n",
    "            \n",
    "            break\n",
    "\n",
    "        elif len(str_num)>9:\n",
    "            break\n",
    "\n",
    "\n",
    "    if i % 50000 ==0:\n",
    "        print('{0} passed'.format(i))\n",
    "\n",
    "print('number: {0} /pandigital: {1} '.format(answer_list[-1],pand_list[-1]))"
   ]
  },
  {
   "cell_type": "markdown",
   "metadata": {},
   "source": [
    "### Q39\n",
    "https://projecteuler.net/problem=39"
   ]
  },
  {
   "cell_type": "code",
   "execution_count": 55,
   "metadata": {},
   "outputs": [
    {
     "data": {
      "text/plain": [
       "840"
      ]
     },
     "execution_count": 55,
     "metadata": {},
     "output_type": "execute_result"
    }
   ],
   "source": [
    "#Q39 python\n",
    "import math\n",
    "\n",
    "# 마지막 p 둘레 총합 찾을 때\n",
    "Q39_dict = {i:0 for i in range(3,1001)}\n",
    "\n",
    "for a in range(1,334):\n",
    "    for b in range(a,1000-a):\n",
    "        c = math.sqrt(a**2 + b**2)\n",
    "        if c == int(float(math.sqrt(a**2+b**2))):\n",
    "            \n",
    "            if b>c:\n",
    "                break\n",
    "            else:\n",
    "                p = a+b+c\n",
    "           \n",
    "                if p <=1000:\n",
    "                    #print('{0} / {1} / {2} / {3}'.format(a,b,c,p))\n",
    "                    # a + b + sqrt(a+b) = p\n",
    "                    Q39_dict[p]= Q39_dict[p]+1    \n",
    "\n",
    "\n",
    "max(Q39_dict.keys(), key=(lambda k:Q39_dict[k]))"
   ]
  },
  {
   "cell_type": "markdown",
   "metadata": {},
   "source": [
    "### Q40\n",
    "https://projecteuler.net/problem=40"
   ]
  },
  {
   "cell_type": "code",
   "execution_count": 56,
   "metadata": {},
   "outputs": [],
   "source": [
    "# Q40 python\n",
    "\n",
    "temp = [i for i in range(1000000)]\n",
    "\n",
    "total = ''\n",
    "for i in range(len(temp)):\n",
    "    word = str(i)\n",
    "    total = total+word\n",
    "\n",
    "answer=1\n",
    "for i in range(7):\n",
    "    print('number is {0}'.format(total[10**i]))\n",
    "    number = int(total[10**i])\n",
    "    answer = answer * number\n",
    "print(answer)"
   ]
  },
  {
   "cell_type": "code",
   "execution_count": null,
   "metadata": {},
   "outputs": [],
   "source": []
  }
 ],
 "metadata": {
  "kernelspec": {
   "display_name": "Python 3",
   "language": "python",
   "name": "python3"
  },
  "language_info": {
   "codemirror_mode": {
    "name": "ipython",
    "version": 3
   },
   "file_extension": ".py",
   "mimetype": "text/x-python",
   "name": "python",
   "nbconvert_exporter": "python",
   "pygments_lexer": "ipython3",
   "version": "3.7.6"
  }
 },
 "nbformat": 4,
 "nbformat_minor": 4
}
