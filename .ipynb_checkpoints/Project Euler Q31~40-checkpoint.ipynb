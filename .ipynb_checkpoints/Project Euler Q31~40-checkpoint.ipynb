{
 "cells": [
  {
   "cell_type": "markdown",
   "metadata": {},
   "source": [
    "### Q31\n",
    "http://projecteuler.net/problem=31"
   ]
  },
  {
   "cell_type": "code",
   "execution_count": 2,
   "metadata": {},
   "outputs": [
    {
     "name": "stdout",
     "output_type": "stream",
     "text": [
      "73682\n"
     ]
    }
   ],
   "source": [
    "#  refer to http://solvingeuler.blogspot.com/2015/05/project-euler-31.html\n",
    "\n",
    "c = [1,2,5,10,20,50,100,200]\n",
    "s = {i:0 for i in range(1,201)}\n",
    "for i in c:\n",
    "    s[i] += 1\n",
    "    for j in range(i+1,201):\n",
    "        s[j] += s[j-i]\n",
    "        \n",
    "print(s[200])"
   ]
  },
  {
   "cell_type": "markdown",
   "metadata": {},
   "source": [
    "### Q32\n",
    "https://projecteuler.net/problem=32"
   ]
  },
  {
   "cell_type": "code",
   "execution_count": 11,
   "metadata": {},
   "outputs": [
    {
     "ename": "TypeError",
     "evalue": "'str' object is not callable",
     "output_type": "error",
     "traceback": [
      "\u001b[1;31m---------------------------------------------------------------------------\u001b[0m",
      "\u001b[1;31mTypeError\u001b[0m                                 Traceback (most recent call last)",
      "\u001b[1;32m<ipython-input-11-530f066002d3>\u001b[0m in \u001b[0;36m<module>\u001b[1;34m\u001b[0m\n\u001b[0;32m     13\u001b[0m \u001b[1;33m\u001b[0m\u001b[0m\n\u001b[0;32m     14\u001b[0m             \u001b[0mstr_j\u001b[0m \u001b[1;33m=\u001b[0m \u001b[0mstr\u001b[0m\u001b[1;33m(\u001b[0m\u001b[0mj\u001b[0m\u001b[1;33m)\u001b[0m\u001b[1;33m\u001b[0m\u001b[1;33m\u001b[0m\u001b[0m\n\u001b[1;32m---> 15\u001b[1;33m             \u001b[0mdict32\u001b[0m\u001b[1;33m[\u001b[0m\u001b[0mstr_j\u001b[0m\u001b[1;33m(\u001b[0m\u001b[0ma\u001b[0m \u001b[1;32mfor\u001b[0m \u001b[0ma\u001b[0m \u001b[1;32min\u001b[0m \u001b[0mrange\u001b[0m\u001b[1;33m(\u001b[0m\u001b[1;36m0\u001b[0m\u001b[1;33m,\u001b[0m\u001b[1;36m4\u001b[0m\u001b[1;33m)\u001b[0m\u001b[1;33m)\u001b[0m\u001b[1;33m]\u001b[0m \u001b[1;33m+=\u001b[0m\u001b[1;36m1\u001b[0m\u001b[1;33m\u001b[0m\u001b[1;33m\u001b[0m\u001b[0m\n\u001b[0m\u001b[0;32m     16\u001b[0m \u001b[1;33m\u001b[0m\u001b[0m\n",
      "\u001b[1;31mTypeError\u001b[0m: 'str' object is not callable"
     ]
    }
   ],
   "source": [
    "# Q32 python\n",
    "\n",
    "# cannot solve\n"
   ]
  },
  {
   "cell_type": "markdown",
   "metadata": {},
   "source": [
    "### Q33\n",
    "https://projecteuler.net/problem=33"
   ]
  },
  {
   "cell_type": "code",
   "execution_count": 64,
   "metadata": {},
   "outputs": [],
   "source": [
    "# Q33 python\n",
    "\n",
    "\n",
    "# 분자 10의자리 & 분모 10의 자리 같을 경우\n",
    "def Q33_00(str_i, str_j, result):\n",
    "    result = str_j + '/' + str_i\n",
    "    return result\n",
    "\n",
    "\n",
    "# 분자 1의자리 & 분모 1의 자리 같을 경우\n",
    "def Q33_11(str_i, str_j, result):\n",
    "    result = str_j + '/' + str_i\n",
    "    return result\n",
    "    \n",
    "# 분자 1의자리 & 분모 10의 자리 같을 경우\n",
    "def Q33_10(str_i, str_j, result):\n",
    "    result = str_j + '/' + str_i\n",
    "    return result\n",
    "        \n",
    "# 분자 10의자리 & 분모 1의 자리 같을 경우\n",
    "def Q33_01(str_i, str_j, result):\n",
    "    result = str_j + '/' + str_i\n",
    "    return result\n",
    "\n",
    "temp = []\n",
    "result = 0\n",
    "\n",
    "for i in range(11,100):\n",
    "    for j in range(10,i):\n",
    "        \n",
    "        str_i = str(i)\n",
    "        str_j = str(j)\n",
    "        \n",
    "        if str_j[0] == str_i[0]:\n",
    "            if not int(str_j[1]) ==0 & int(str_i[1])==0:        \n",
    "                if int(str_j[1]) / int(str_i[1]) == j/i:\n",
    "                    number = Q33_00(str_i,str_j,result)\n",
    "                    temp.append(number)\n",
    "\n",
    "        elif str_j[1] == str_i[1]:\n",
    "            if not int(str_j[1]) ==0 & int(str_i[1])==0:     \n",
    "                 if int(str_j[0]) / int(str_i[0]) == j/i:\n",
    "                    number = Q33_11(str_i,str_j, result)\n",
    "                    temp.append(number)\n",
    "            \n",
    "        elif str_j[1] == str_i[0]:\n",
    "            if not int(str_i[1])==0:\n",
    "                if int(str_j[0]) / int(str_i[1]) == j/i:\n",
    "                    number = Q33_10(str_i,str_j, result)\n",
    "                    temp.append(number)\n",
    "        \n",
    "        elif str_j[0] == str_i[1]:\n",
    "                if int(str_j[1]) / int(str_i[0]) == j/i:\n",
    "                    number = Q33_01(str_i,str_j, result)\n",
    "                    temp.append(number)\n",
    "\n",
    "                    \n",
    "print(temp)\n",
    "\n",
    "\n",
    "# find answer\n",
    "\n",
    "sum_denominator = 1\n",
    "sum_numberator = 1\n",
    "\n",
    "for list_num in range(len(temp)):\n",
    "    num = temp[list_num]\n",
    "    denominator = int(num[:2])\n",
    "    numerator = int(num[3:])\n",
    "    \n",
    "    sum_denominator = sum_denominator * denominator\n",
    "    sum_numberator = sum_numberator * numerator\n",
    "\n",
    "answer = sum_numberator / sum_denominator\n",
    "print(answer)    "
   ]
  },
  {
   "cell_type": "markdown",
   "metadata": {},
   "source": [
    "### Q34\n",
    "https://projecteuler.net/problem=34"
   ]
  },
  {
   "cell_type": "code",
   "execution_count": 81,
   "metadata": {},
   "outputs": [
    {
     "data": {
      "text/plain": [
       "120"
      ]
     },
     "execution_count": 81,
     "metadata": {},
     "output_type": "execute_result"
    }
   ],
   "source": [
    "math.factorial(5)"
   ]
  },
  {
   "cell_type": "code",
   "execution_count": 101,
   "metadata": {},
   "outputs": [
    {
     "name": "stdout",
     "output_type": "stream",
     "text": [
      "145 / 145\n",
      "40585 / 40585\n",
      "40730\n"
     ]
    }
   ],
   "source": [
    "# Q34 python\n",
    "# IDK the exact limit.\n",
    "\n",
    "import math\n",
    "\n",
    "n= 9\n",
    "temp = []\n",
    "\n",
    "while True:\n",
    "    n = n+1\n",
    "    num = str(n)\n",
    "    Q34_sum = 0\n",
    "    \n",
    "    for i in range(len(num)):\n",
    "        count_num = int(num[i])\n",
    "        factorial_num = math.factorial(count_num)\n",
    "        Q34_sum = Q34_sum + factorial_num\n",
    "        \n",
    "    \n",
    "    if Q34_sum == n:\n",
    "        \n",
    "        print('{0} / {1}'.format(n, Q34_sum))\n",
    "        temp.append(n)\n",
    "    \n",
    "    if n >41000:\n",
    "        break\n",
    "        \n",
    "        \n",
    "sum = 0\n",
    "for i in range(len(temp)):\n",
    "    sum = sum + int(temp[i])\n",
    "    \n",
    "print(sum)"
   ]
  },
  {
   "cell_type": "markdown",
   "metadata": {},
   "source": [
    "### Q35\n",
    "https://projecteuler.net/problem=35"
   ]
  },
  {
   "cell_type": "code",
   "execution_count": 124,
   "metadata": {},
   "outputs": [
    {
     "data": {
      "text/plain": [
       "3"
      ]
     },
     "execution_count": 124,
     "metadata": {},
     "output_type": "execute_result"
    }
   ],
   "source": [
    "int(math.sqrt(9))"
   ]
  },
  {
   "cell_type": "code",
   "execution_count": 134,
   "metadata": {},
   "outputs": [],
   "source": [
    "# Q35 python\n",
    "\n",
    "from sympy import isprime\n",
    "\n",
    "temp = []\n",
    "for i in range(2,1000000):\n",
    "    if isprime(i):\n",
    "        \n",
    "        string = str(i)\n",
    "        size= len(string)\n",
    "        \n",
    "        new_num_prime = True\n",
    "        \n",
    "        for j in range(1,size):\n",
    "            new_string = string[j:] + string[:j]\n",
    "            new_num = int(new_string)\n",
    "            \n",
    "            if isprime(new_num)==False:\n",
    "                new_num_prime= False\n",
    "                \n",
    "            if new_num_prime == False:\n",
    "                break\n",
    "            \n",
    "        if new_num_prime == True:\n",
    "            temp.append(i)\n",
    "\n",
    "len(temp)"
   ]
  },
  {
   "cell_type": "markdown",
   "metadata": {},
   "source": [
    "### Q36\n",
    "https://projecteuler.net/problem=36"
   ]
  },
  {
   "cell_type": "markdown",
   "metadata": {},
   "source": [
    "대칭수(palindrome)인 585는 2진수로 나타내도 10010010012가 되어 여전히 대칭수입니다.\n",
    "\n",
    "10진법과 2진법으로 모두 대칭수인 1,000,000 이하 숫자의 합을 구하세요.\n",
    "\n",
    "(주의: 첫번째 자리가 0이면 대칭수가 아님)"
   ]
  },
  {
   "cell_type": "code",
   "execution_count": 155,
   "metadata": {},
   "outputs": [
    {
     "data": {
      "text/plain": [
       "3"
      ]
     },
     "execution_count": 155,
     "metadata": {},
     "output_type": "execute_result"
    }
   ],
   "source": [
    "len('abc')"
   ]
  },
  {
   "cell_type": "code",
   "execution_count": 166,
   "metadata": {},
   "outputs": [],
   "source": [
    "abc = ''"
   ]
  },
  {
   "cell_type": "code",
   "execution_count": 167,
   "metadata": {},
   "outputs": [
    {
     "data": {
      "text/plain": [
       "0"
      ]
     },
     "execution_count": 167,
     "metadata": {},
     "output_type": "execute_result"
    }
   ],
   "source": [
    "len(abc)"
   ]
  },
  {
   "cell_type": "code",
   "execution_count": null,
   "metadata": {},
   "outputs": [],
   "source": [
    "'Hello Python'\n",
    ">>> s='h'+s[1:]"
   ]
  },
  {
   "cell_type": "code",
   "execution_count": 164,
   "metadata": {},
   "outputs": [],
   "source": [
    "def even_check(num):\n",
    "    \n",
    "    string = str(num)\n",
    "    copy_string = string\n",
    "    size = len(string)\n",
    "    \n",
    "    for i in range(0,int(size/2)):\n",
    "        string[i] = copy_string[int(size-(i+1))]\n",
    "    \n",
    "    new_num = int(string)\n",
    "    return new_num"
   ]
  },
  {
   "cell_type": "code",
   "execution_count": 165,
   "metadata": {},
   "outputs": [
    {
     "ename": "TypeError",
     "evalue": "'str' object does not support item assignment",
     "output_type": "error",
     "traceback": [
      "\u001b[1;31m---------------------------------------------------------------------------\u001b[0m",
      "\u001b[1;31mTypeError\u001b[0m                                 Traceback (most recent call last)",
      "\u001b[1;32m<ipython-input-165-229e002382bd>\u001b[0m in \u001b[0;36m<module>\u001b[1;34m\u001b[0m\n\u001b[1;32m----> 1\u001b[1;33m \u001b[0meven_check\u001b[0m\u001b[1;33m(\u001b[0m\u001b[1;36m1234\u001b[0m\u001b[1;33m)\u001b[0m\u001b[1;33m\u001b[0m\u001b[1;33m\u001b[0m\u001b[0m\n\u001b[0m",
      "\u001b[1;32m<ipython-input-164-fa2f0cf046af>\u001b[0m in \u001b[0;36meven_check\u001b[1;34m(num)\u001b[0m\n\u001b[0;32m      6\u001b[0m \u001b[1;33m\u001b[0m\u001b[0m\n\u001b[0;32m      7\u001b[0m     \u001b[1;32mfor\u001b[0m \u001b[0mi\u001b[0m \u001b[1;32min\u001b[0m \u001b[0mrange\u001b[0m\u001b[1;33m(\u001b[0m\u001b[1;36m0\u001b[0m\u001b[1;33m,\u001b[0m\u001b[0mint\u001b[0m\u001b[1;33m(\u001b[0m\u001b[0msize\u001b[0m\u001b[1;33m/\u001b[0m\u001b[1;36m2\u001b[0m\u001b[1;33m)\u001b[0m\u001b[1;33m)\u001b[0m\u001b[1;33m:\u001b[0m\u001b[1;33m\u001b[0m\u001b[1;33m\u001b[0m\u001b[0m\n\u001b[1;32m----> 8\u001b[1;33m         \u001b[0mstring\u001b[0m\u001b[1;33m[\u001b[0m\u001b[0mi\u001b[0m\u001b[1;33m]\u001b[0m \u001b[1;33m=\u001b[0m \u001b[0mcopy_string\u001b[0m\u001b[1;33m[\u001b[0m\u001b[0mint\u001b[0m\u001b[1;33m(\u001b[0m\u001b[0msize\u001b[0m\u001b[1;33m-\u001b[0m\u001b[1;33m(\u001b[0m\u001b[0mi\u001b[0m\u001b[1;33m+\u001b[0m\u001b[1;36m1\u001b[0m\u001b[1;33m)\u001b[0m\u001b[1;33m)\u001b[0m\u001b[1;33m]\u001b[0m\u001b[1;33m\u001b[0m\u001b[1;33m\u001b[0m\u001b[0m\n\u001b[0m\u001b[0;32m      9\u001b[0m \u001b[1;33m\u001b[0m\u001b[0m\n\u001b[0;32m     10\u001b[0m     \u001b[0mnew_num\u001b[0m \u001b[1;33m=\u001b[0m \u001b[0mint\u001b[0m\u001b[1;33m(\u001b[0m\u001b[0mstring\u001b[0m\u001b[1;33m)\u001b[0m\u001b[1;33m\u001b[0m\u001b[1;33m\u001b[0m\u001b[0m\n",
      "\u001b[1;31mTypeError\u001b[0m: 'str' object does not support item assignment"
     ]
    }
   ],
   "source": [
    "even_check(1234)"
   ]
  },
  {
   "cell_type": "code",
   "execution_count": null,
   "metadata": {},
   "outputs": [],
   "source": [
    "    \n",
    "def odd_check(num):"
   ]
  },
  {
   "cell_type": "code",
   "execution_count": null,
   "metadata": {},
   "outputs": [],
   "source": [
    "for i in range(10,1000000):\n",
    "    "
   ]
  },
  {
   "cell_type": "code",
   "execution_count": 153,
   "metadata": {},
   "outputs": [
    {
     "data": {
      "text/plain": [
       "'101'"
      ]
     },
     "execution_count": 153,
     "metadata": {},
     "output_type": "execute_result"
    }
   ],
   "source": [
    "bin(5)[2:]"
   ]
  },
  {
   "cell_type": "code",
   "execution_count": null,
   "metadata": {},
   "outputs": [],
   "source": []
  }
 ],
 "metadata": {
  "kernelspec": {
   "display_name": "Python 3",
   "language": "python",
   "name": "python3"
  },
  "language_info": {
   "codemirror_mode": {
    "name": "ipython",
    "version": 3
   },
   "file_extension": ".py",
   "mimetype": "text/x-python",
   "name": "python",
   "nbconvert_exporter": "python",
   "pygments_lexer": "ipython3",
   "version": "3.7.6"
  }
 },
 "nbformat": 4,
 "nbformat_minor": 4
}
