{
 "cells": [
  {
   "cell_type": "markdown",
   "metadata": {},
   "source": [
    "### Q21\n",
    "http://euler.synap.co.kr/prob_detail.php?id=21"
   ]
  },
  {
   "cell_type": "code",
   "execution_count": 38,
   "metadata": {
    "scrolled": true
   },
   "outputs": [
    {
     "name": "stdout",
     "output_type": "stream",
     "text": [
      "[220, 284, 1184, 1210, 2620, 2924, 5020, 5564, 6232, 6368]\n"
     ]
    },
    {
     "data": {
      "text/plain": [
       "31626"
      ]
     },
     "execution_count": 38,
     "metadata": {},
     "output_type": "execute_result"
    }
   ],
   "source": [
    "# Q21 python\n",
    "\n",
    "dic_21 = {}\n",
    "answer = []\n",
    "\n",
    "for i in range(2,10001):\n",
    "    temp = []\n",
    "    \n",
    "    for j in range(1, int(i/2) +1):\n",
    "        \n",
    "        \n",
    "        if i % j == 0 :\n",
    "            #print(\"{0} // {1}\".format(i,j))\n",
    "            temp.append(j)\n",
    "\n",
    "    dic_21[i] = sum(temp)\n",
    "\n",
    "dic_21[1]=0\n",
    "\n",
    "\n",
    "for i in range(2,10001):\n",
    "    \n",
    "    if (dic_21[i]<=10000):\n",
    "        if (i == dic_21[dic_21[i]]) & (i != dic_21[i]) :\n",
    "            answer.append(i)\n",
    "           \n",
    "\n",
    "print(answer)\n",
    "sum(answer)"
   ]
  },
  {
   "cell_type": "markdown",
   "metadata": {},
   "source": [
    "### Q22\n",
    "http://euler.synap.co.kr/prob_detail.php?id=22"
   ]
  },
  {
   "cell_type": "code",
   "execution_count": 117,
   "metadata": {},
   "outputs": [
    {
     "name": "stdout",
     "output_type": "stream",
     "text": [
      "871198282\n"
     ]
    }
   ],
   "source": [
    "# Q22 python \n",
    "\n",
    "f = open('C:/names.txt', 'r')\n",
    "lines = f.readline()\n",
    "\n",
    "\n",
    "list22 = lines.replace('\"',\"\").split(',')\n",
    "\n",
    "\n",
    "alphabet = ['A','B','C','D','E','F','G','H','I','J','K','L','M','N','O','P','Q','R','S','T','U','V','W','X','Y','Z']\n",
    "numbering = list(range(1,1+len(alphabet)))\n",
    "\n",
    "dict22 = dict(zip(alphabet, numbering))\n",
    "\n",
    "sort_list22 = sorted(list22)\n",
    "\n",
    "\n",
    "total_sum = 0\n",
    "name_total = 0\n",
    "\n",
    "for i in range(len(sort_list22)):\n",
    "    name_mul = 0\n",
    "    for j in range(len(sort_list22[i])):\n",
    "        \n",
    "        \n",
    "        name_mul = name_mul + dict_22[sort_list22[i][j]]\n",
    "        #print(\"{0} // len(name): {1} // {2} //  num change: {3} // name_mul: {4}\".format(sort_list22[i], len(sort_list22[i]), sort_list22[i][j], dict22[sort_list22[i][j]], name_mul))\n",
    "        \n",
    "        \n",
    "    name_total = (i+1) * name_mul\n",
    "    #print(\"{0} * {1} = {2}\".format((i+1),name_mul, name_total))\n",
    "    total_sum +=name_total\n",
    "    #print(total_sum)\n",
    "    \n",
    "    \n",
    "    \n",
    "print(total_sum)"
   ]
  },
  {
   "cell_type": "markdown",
   "metadata": {},
   "source": [
    "### Q23 \n",
    "#### Not solved\n",
    "\n",
    "http://euler.synap.co.kr/prob_detail.php?id=23"
   ]
  },
  {
   "cell_type": "code",
   "execution_count": 113,
   "metadata": {},
   "outputs": [
    {
     "name": "stdout",
     "output_type": "stream",
     "text": [
      "4179871\n"
     ]
    }
   ],
   "source": [
    "# Q23 python\n",
    "# refer to https://opentutorials.org/module/3075/17974\n",
    "\n",
    "def divisors(n):\n",
    "    i=2;total={1}\n",
    "    while i<=n**0.5:\n",
    "        if n%i==0:\n",
    "            total.add(i)\n",
    "            total.add(n/i)\n",
    "        i+=1\n",
    "    return sum(total)\n",
    " \n",
    "abun=set()\n",
    "for i in range(1,28123):\n",
    "    if i<divisors(i):\n",
    "        abun.add(i)\n",
    " \n",
    "numbers=set(range(28123))\n",
    "for i in abun:\n",
    "    for j in abun:\n",
    "        if (i+j) in numbers:\n",
    "            numbers.remove(i+j)\n",
    "print(sum(numbers))"
   ]
  },
  {
   "cell_type": "markdown",
   "metadata": {},
   "source": [
    "### Q24 \n",
    "#### Not solved"
   ]
  },
  {
   "cell_type": "code",
   "execution_count": 2,
   "metadata": {
    "scrolled": true
   },
   "outputs": [
    {
     "data": {
      "text/plain": [
       "3628800"
      ]
     },
     "execution_count": 2,
     "metadata": {},
     "output_type": "execute_result"
    }
   ],
   "source": [
    "# Q24 python\n",
    "# refer to : https://opentutorials.org/module/3075/18309\n",
    "\n",
    "def get_next_permutation(string):\n",
    "    i=len(string)-2\n",
    "    while i >= 0:\n",
    "        if string[i] < string[i+1]:\n",
    "            target = sorted(string[i:])\n",
    "            new_num = target.pop(target.index(string[i])+1)\n",
    "            last_nums = ''.join(target)\n",
    "            return string[:i] + new_num + last_nums\n",
    "        i-=1\n",
    " \n",
    "string='0123456789'\n",
    "for i in range(1,1000000):    \n",
    "    string = get_next_permutation(string)\n",
    "print(string)"
   ]
  },
  {
   "cell_type": "markdown",
   "metadata": {},
   "source": [
    "### Q25\n",
    "http://euler.synap.co.kr/prob_detail.php?id=25"
   ]
  },
  {
   "cell_type": "code",
   "execution_count": 35,
   "metadata": {},
   "outputs": [
    {
     "data": {
      "text/plain": [
       "4782"
      ]
     },
     "execution_count": 35,
     "metadata": {},
     "output_type": "execute_result"
    }
   ],
   "source": [
    "# Q25 python\n",
    "\n",
    "temp = [1,1]\n",
    "\n",
    "breaker = False\n",
    "\n",
    "while True:\n",
    "    \n",
    "    if len(str(temp[-1])) <1000:\n",
    "            \n",
    "        new_value = temp[-2] + temp[-1]\n",
    "        temp.append(new_value)\n",
    "        \n",
    "    if len(str(temp[-1])) ==1000:\n",
    "        breaker = True\n",
    "    \n",
    "    if breaker ==True:\n",
    "        break\n",
    "\n",
    "\n",
    "        \n",
    "len(temp)"
   ]
  },
  {
   "cell_type": "markdown",
   "metadata": {},
   "source": [
    "### Q26\n",
    "#### Not Solved\n",
    "http://euler.synap.co.kr/prob_detail.php?id=26"
   ]
  },
  {
   "cell_type": "code",
   "execution_count": 80,
   "metadata": {
    "scrolled": true
   },
   "outputs": [
    {
     "name": "stdout",
     "output_type": "stream",
     "text": [
      "983\n"
     ]
    }
   ],
   "source": [
    "# refer to https://gorani95.tistory.com/38\n",
    "\n",
    "count_temp=0\n",
    "num_temp=0\n",
    "for i in range(2,1001):\n",
    "    count=0\n",
    "    arr=[]\n",
    "    left=i\n",
    "    right=1\n",
    "    for j in range(0,1000):      \n",
    "        while(right<left):\n",
    "            right=right*10\n",
    "            if(right==0):\n",
    "                break\n",
    "        right=right%left\n",
    "        arr.append(right)\n",
    "        if(right==0):\n",
    "            break\n",
    "        right=right*10\n",
    "    for k in range(1,len(arr)):\n",
    "        if(arr[0]!=arr[k]):\n",
    "            count=count+1\n",
    "        else:\n",
    "            if(count_temp<count):\n",
    "                count_temp=count\n",
    "                num_temp=i\n",
    "            break\n",
    "print(num_temp)\n",
    "#반환 시간 : 0.4s"
   ]
  },
  {
   "cell_type": "markdown",
   "metadata": {},
   "source": [
    "### Q27\n",
    "http://euler.synap.co.kr/prob_detail.php?id=27"
   ]
  },
  {
   "cell_type": "code",
   "execution_count": 114,
   "metadata": {},
   "outputs": [],
   "source": []
  },
  {
   "cell_type": "code",
   "execution_count": 117,
   "metadata": {},
   "outputs": [
    {
     "name": "stdout",
     "output_type": "stream",
     "text": [
      "a: -1000 b: 2 new max value n: 1 -2000\n",
      "a: -996 b: 997 new max value n: 2 -993012\n",
      "a: -499 b: 997 new max value n: 3 -497503\n",
      "a: -325 b: 977 new max value n: 4 -317525\n",
      "a: -245 b: 977 new max value n: 5 -239365\n",
      "a: -197 b: 983 new max value n: 6 -193651\n",
      "a: -163 b: 983 new max value n: 7 -160229\n",
      "a: -131 b: 941 new max value n: 8 -123271\n",
      "a: -121 b: 947 new max value n: 9 -114587\n",
      "a: -105 b: 967 new max value n: 11 -101535\n",
      "a: -61 b: 971 new max value n: 71 -59231\n"
     ]
    }
   ],
   "source": [
    "# Q27 python\n",
    "# refer to https://opentutorials.org/module/3075/18371\n",
    "\n",
    "from sympy import isprime\n",
    "\n",
    "max_n = 0\n",
    "for a in range(-1000, 1000):\n",
    "    for b in range(-1000, 1000):\n",
    "        \n",
    "        n = 0\n",
    "        \n",
    "        while True:\n",
    "            \n",
    "            number = n**2 + a*n + b\n",
    "            \n",
    "            if (number>0) & isprime(number):\n",
    "                n +=1\n",
    "            \n",
    "            else:\n",
    "                if n>max_n:\n",
    "                    max_n = n\n",
    "                    print(\"a:\",a,\"b:\",b,\"new max value n:\",n,a*b)\n",
    "                    break\n",
    "                    \n",
    "                else:\n",
    "                    break\n",
    "    "
   ]
  },
  {
   "cell_type": "markdown",
   "metadata": {},
   "source": [
    "### Q28\n",
    "http://euler.synap.co.kr/prob_detail.php?id=28"
   ]
  },
  {
   "cell_type": "code",
   "execution_count": 124,
   "metadata": {},
   "outputs": [
    {
     "data": {
      "text/plain": [
       "[[1], [2]]"
      ]
     },
     "execution_count": 124,
     "metadata": {},
     "output_type": "execute_result"
    }
   ],
   "source": [
    "a = [[1] , [2]]\n",
    "a"
   ]
  },
  {
   "cell_type": "code",
   "execution_count": 152,
   "metadata": {},
   "outputs": [],
   "source": [
    "# Q28 python\n",
    "import numpy as np\n",
    "\n",
    "list28 = list(range(1,1001*1001+1))"
   ]
  },
  {
   "cell_type": "code",
   "execution_count": 151,
   "metadata": {},
   "outputs": [],
   "source": [
    "array28 = np.zeros((1001,1001))"
   ]
  },
  {
   "cell_type": "code",
   "execution_count": 154,
   "metadata": {},
   "outputs": [
    {
     "data": {
      "text/plain": [
       "1002001"
      ]
     },
     "execution_count": 154,
     "metadata": {},
     "output_type": "execute_result"
    }
   ],
   "source": [
    "len(list28)"
   ]
  },
  {
   "cell_type": "code",
   "execution_count": 153,
   "metadata": {},
   "outputs": [
    {
     "data": {
      "text/plain": [
       "array([[0., 0., 0., ..., 0., 0., 0.],\n",
       "       [0., 0., 0., ..., 0., 0., 0.],\n",
       "       [0., 0., 0., ..., 0., 0., 0.],\n",
       "       ...,\n",
       "       [0., 0., 0., ..., 0., 0., 0.],\n",
       "       [0., 0., 0., ..., 0., 0., 0.],\n",
       "       [0., 0., 0., ..., 0., 0., 0.]])"
      ]
     },
     "execution_count": 153,
     "metadata": {},
     "output_type": "execute_result"
    }
   ],
   "source": [
    "a = 501\n",
    "b = 501\n",
    "\n",
    "for i in range(len(list28)):\n",
    "    \n",
    "    array28[a][b] = i\n",
    "    if a==b:\n",
    "        b= b+1\n",
    "    \n",
    "    \n",
    "        \n",
    "    \n",
    "    \n",
    "    \n",
    "    "
   ]
  },
  {
   "cell_type": "code",
   "execution_count": 140,
   "metadata": {},
   "outputs": [
    {
     "data": {
      "text/plain": [
       "[[1, 1, 1, 1, 1]]"
      ]
     },
     "execution_count": 140,
     "metadata": {},
     "output_type": "execute_result"
    }
   ],
   "source": [
    "lista = [[1]*5]\n",
    "lista"
   ]
  },
  {
   "cell_type": "code",
   "execution_count": 138,
   "metadata": {},
   "outputs": [
    {
     "name": "stdout",
     "output_type": "stream",
     "text": [
      "[[0, 1, 2, 3, 4], [0, 1, 2, 3, 4], [0, 1, 2, 3, 4], [0, 1, 2, 3, 4], [0, 1, 2, 3, 4]]\n"
     ]
    }
   ],
   "source": [
    "for i in range(5):\n",
    "    lista[0][i] = i"
   ]
  },
  {
   "cell_type": "code",
   "execution_count": 139,
   "metadata": {},
   "outputs": [
    {
     "data": {
      "text/plain": [
       "0"
      ]
     },
     "execution_count": 139,
     "metadata": {},
     "output_type": "execute_result"
    }
   ],
   "source": [
    "lista[0][0]"
   ]
  },
  {
   "cell_type": "code",
   "execution_count": null,
   "metadata": {},
   "outputs": [],
   "source": []
  }
 ],
 "metadata": {
  "kernelspec": {
   "display_name": "Python 3",
   "language": "python",
   "name": "python3"
  },
  "language_info": {
   "codemirror_mode": {
    "name": "ipython",
    "version": 3
   },
   "file_extension": ".py",
   "mimetype": "text/x-python",
   "name": "python",
   "nbconvert_exporter": "python",
   "pygments_lexer": "ipython3",
   "version": "3.7.6"
  }
 },
 "nbformat": 4,
 "nbformat_minor": 4
}
