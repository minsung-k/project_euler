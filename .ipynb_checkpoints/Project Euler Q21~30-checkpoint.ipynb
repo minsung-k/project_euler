{
 "cells": [
  {
   "cell_type": "markdown",
   "metadata": {},
   "source": [
    "### Q21\n",
    "http://euler.synap.co.kr/prob_detail.php?id=21"
   ]
  },
  {
   "cell_type": "code",
   "execution_count": 38,
   "metadata": {
    "scrolled": true
   },
   "outputs": [
    {
     "name": "stdout",
     "output_type": "stream",
     "text": [
      "[220, 284, 1184, 1210, 2620, 2924, 5020, 5564, 6232, 6368]\n"
     ]
    },
    {
     "data": {
      "text/plain": [
       "31626"
      ]
     },
     "execution_count": 38,
     "metadata": {},
     "output_type": "execute_result"
    }
   ],
   "source": [
    "# Q21 python\n",
    "\n",
    "dic_21 = {}\n",
    "answer = []\n",
    "\n",
    "for i in range(2,10001):\n",
    "    temp = []\n",
    "    \n",
    "    for j in range(1, int(i/2) +1):\n",
    "        \n",
    "        \n",
    "        if i % j == 0 :\n",
    "            #print(\"{0} // {1}\".format(i,j))\n",
    "            temp.append(j)\n",
    "\n",
    "    dic_21[i] = sum(temp)\n",
    "\n",
    "dic_21[1]=0\n",
    "\n",
    "\n",
    "for i in range(2,10001):\n",
    "    \n",
    "    if (dic_21[i]<=10000):\n",
    "        if (i == dic_21[dic_21[i]]) & (i != dic_21[i]) :\n",
    "            answer.append(i)\n",
    "           \n",
    "\n",
    "print(answer)\n",
    "sum(answer)"
   ]
  },
  {
   "cell_type": "markdown",
   "metadata": {},
   "source": [
    "### Q22\n",
    "http://euler.synap.co.kr/prob_detail.php?id=22"
   ]
  },
  {
   "cell_type": "code",
   "execution_count": 117,
   "metadata": {},
   "outputs": [
    {
     "name": "stdout",
     "output_type": "stream",
     "text": [
      "871198282\n"
     ]
    }
   ],
   "source": [
    "# Q22 python \n",
    "\n",
    "f = open('C:/names.txt', 'r')\n",
    "lines = f.readline()\n",
    "\n",
    "\n",
    "list22 = lines.replace('\"',\"\").split(',')\n",
    "\n",
    "\n",
    "alphabet = ['A','B','C','D','E','F','G','H','I','J','K','L','M','N','O','P','Q','R','S','T','U','V','W','X','Y','Z']\n",
    "numbering = list(range(1,1+len(alphabet)))\n",
    "\n",
    "dict22 = dict(zip(alphabet, numbering))\n",
    "\n",
    "sort_list22 = sorted(list22)\n",
    "\n",
    "\n",
    "total_sum = 0\n",
    "name_total = 0\n",
    "\n",
    "for i in range(len(sort_list22)):\n",
    "    name_mul = 0\n",
    "    for j in range(len(sort_list22[i])):\n",
    "        \n",
    "        \n",
    "        name_mul = name_mul + dict_22[sort_list22[i][j]]\n",
    "        #print(\"{0} // len(name): {1} // {2} //  num change: {3} // name_mul: {4}\".format(sort_list22[i], len(sort_list22[i]), sort_list22[i][j], dict22[sort_list22[i][j]], name_mul))\n",
    "        \n",
    "        \n",
    "    name_total = (i+1) * name_mul\n",
    "    #print(\"{0} * {1} = {2}\".format((i+1),name_mul, name_total))\n",
    "    total_sum +=name_total\n",
    "    #print(total_sum)\n",
    "    \n",
    "    \n",
    "    \n",
    "print(total_sum)"
   ]
  },
  {
   "cell_type": "markdown",
   "metadata": {},
   "source": [
    "### Q23 \n",
    "#### Not solved\n",
    "http://euler.synap.co.kr/prob_detail.php?id=23"
   ]
  },
  {
   "cell_type": "code",
   "execution_count": null,
   "metadata": {},
   "outputs": [],
   "source": [
    "# Q23 python\n",
    "import math\n",
    "\n",
    "over_num = []\n",
    "for i in range(2,28124):\n",
    "    temp = [1]\n",
    "    for j in range(2,int(math.sqrt(i))+1):\n",
    "        \n",
    "        if i % j ==0:\n",
    "            #print('{0} // {1}'.format(i,j))\n",
    "            temp.append(j)\n",
    "            temp.append(i/j)\n",
    "            #print(temp)\n",
    "            if j == (i/j):\n",
    "                #print('{0} // {1}'.format(i,j))\n",
    "                del temp[-1]\n",
    "                \n",
    "    if sum(temp)>i:\n",
    "        #print('temp {0} // i {1}'.format(sum(temp),i))\n",
    "        over_num.append(i)\n",
    "        "
   ]
  },
  {
   "cell_type": "code",
   "execution_count": null,
   "metadata": {},
   "outputs": [],
   "source": [
    "list23 = list(range(28123))\n",
    "\n",
    "for i in range(len(over_num)):\n",
    "    for j in range(i,len(over_num)):\n",
    "        #print(\"{0} // {1}\".format(over_num[i],over_num[j]))\n",
    "        sum_over_num = over_num[i] + over_num[j]\n",
    "        #print(\"{0} + {1} = {2}\".format(over_num[i], over_num[j], sum_over_num))\n",
    "  \n",
    "        try:\n",
    "            \n",
    "            del list23[sum_over_num]\n",
    "        except:\n",
    "            print(\"{0} + {1} = {2} \".format(over_num[i],over_num[j],sum_over_num))\n",
    "            pass\n",
    "        "
   ]
  },
  {
   "cell_type": "markdown",
   "metadata": {},
   "source": [
    "### Q24 \n",
    "#### Not solved"
   ]
  },
  {
   "cell_type": "code",
   "execution_count": 2,
   "metadata": {
    "scrolled": true
   },
   "outputs": [
    {
     "data": {
      "text/plain": [
       "3628800"
      ]
     },
     "execution_count": 2,
     "metadata": {},
     "output_type": "execute_result"
    }
   ],
   "source": [
    "# Q24 python\n",
    "# refer to : https://opentutorials.org/module/3075/18309\n",
    "\n",
    "def get_next_permutation(string):\n",
    "    i=len(string)-2\n",
    "    while i >= 0:\n",
    "        if string[i] < string[i+1]:\n",
    "            target = sorted(string[i:])\n",
    "            new_num = target.pop(target.index(string[i])+1)\n",
    "            last_nums = ''.join(target)\n",
    "            return string[:i] + new_num + last_nums\n",
    "        i-=1\n",
    " \n",
    "string='0123456789'\n",
    "for i in range(1,1000000):    \n",
    "    string = get_next_permutation(string)\n",
    "print(string)"
   ]
  },
  {
   "cell_type": "markdown",
   "metadata": {},
   "source": [
    "### Q25\n",
    "http://euler.synap.co.kr/prob_detail.php?id=25"
   ]
  },
  {
   "cell_type": "code",
   "execution_count": 35,
   "metadata": {},
   "outputs": [
    {
     "data": {
      "text/plain": [
       "4782"
      ]
     },
     "execution_count": 35,
     "metadata": {},
     "output_type": "execute_result"
    }
   ],
   "source": [
    "# Q25 python\n",
    "\n",
    "temp = [1,1]\n",
    "\n",
    "breaker = False\n",
    "\n",
    "while True:\n",
    "    \n",
    "    if len(str(temp[-1])) <1000:\n",
    "            \n",
    "        new_value = temp[-2] + temp[-1]\n",
    "        temp.append(new_value)\n",
    "        \n",
    "    if len(str(temp[-1])) ==1000:\n",
    "        breaker = True\n",
    "    \n",
    "    if breaker ==True:\n",
    "        break\n",
    "\n",
    "\n",
    "        \n",
    "len(temp)"
   ]
  },
  {
   "cell_type": "markdown",
   "metadata": {},
   "source": [
    "### Q26\n",
    "#### Not Solved\n",
    "http://euler.synap.co.kr/prob_detail.php?id=26"
   ]
  },
  {
   "cell_type": "code",
   "execution_count": 80,
   "metadata": {
    "scrolled": true
   },
   "outputs": [
    {
     "name": "stdout",
     "output_type": "stream",
     "text": [
      "983\n"
     ]
    }
   ],
   "source": [
    "# refer to https://gorani95.tistory.com/38\n",
    "\n",
    "count_temp=0\n",
    "num_temp=0\n",
    "for i in range(2,1001):\n",
    "    count=0\n",
    "    arr=[]\n",
    "    left=i\n",
    "    right=1\n",
    "    for j in range(0,1000):      \n",
    "        while(right<left):\n",
    "            right=right*10\n",
    "            if(right==0):\n",
    "                break\n",
    "        right=right%left\n",
    "        arr.append(right)\n",
    "        if(right==0):\n",
    "            break\n",
    "        right=right*10\n",
    "    for k in range(1,len(arr)):\n",
    "        if(arr[0]!=arr[k]):\n",
    "            count=count+1\n",
    "        else:\n",
    "            if(count_temp<count):\n",
    "                count_temp=count\n",
    "                num_temp=i\n",
    "            break\n",
    "print(num_temp)\n",
    "#반환 시간 : 0.4s"
   ]
  },
  {
   "cell_type": "markdown",
   "metadata": {},
   "source": [
    "### Q27\n",
    "http://euler.synap.co.kr/prob_detail.php?id=27"
   ]
  },
  {
   "cell_type": "code",
   "execution_count": null,
   "metadata": {},
   "outputs": [],
   "source": [
    "# Q27 python\n",
    "\n",
    "for a in range(1000):\n",
    "    for b in range(1000):\n",
    "        \n",
    "        "
   ]
  }
 ],
 "metadata": {
  "kernelspec": {
   "display_name": "Python 3",
   "language": "python",
   "name": "python3"
  },
  "language_info": {
   "codemirror_mode": {
    "name": "ipython",
    "version": 3
   },
   "file_extension": ".py",
   "mimetype": "text/x-python",
   "name": "python",
   "nbconvert_exporter": "python",
   "pygments_lexer": "ipython3",
   "version": "3.7.6"
  }
 },
 "nbformat": 4,
 "nbformat_minor": 4
}
