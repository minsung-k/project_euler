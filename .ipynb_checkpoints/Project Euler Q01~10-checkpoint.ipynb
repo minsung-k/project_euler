{
 "cells": [
  {
   "cell_type": "markdown",
   "metadata": {},
   "source": [
    "### Project Euler"
   ]
  },
  {
   "cell_type": "markdown",
   "metadata": {},
   "source": [
    "#### Q1\n",
    "https://projecteuler.net/problem=1"
   ]
  },
  {
   "cell_type": "code",
   "execution_count": 1,
   "metadata": {},
   "outputs": [
    {
     "data": {
      "text/plain": [
       "233168"
      ]
     },
     "execution_count": 1,
     "metadata": {},
     "output_type": "execute_result"
    }
   ],
   "source": [
    "# Q1 python\n",
    "\n",
    "total3 = 0\n",
    "total5 = 0\n",
    "total15 = 0\n",
    "\n",
    "\n",
    "for i in range(1,1000):\n",
    "    if i % 3 == 0:\n",
    "        total3 = total3 + i\n",
    "        \n",
    "    elif i % 5 == 0:\n",
    "        total5 = total5 + i\n",
    "        \n",
    "    elif i % 15 ==0:\n",
    "        total15 = total15 + i\n",
    "\n",
    "total = total3 + total5 - total15\n",
    "total"
   ]
  },
  {
   "cell_type": "markdown",
   "metadata": {},
   "source": [
    "### Q2\n",
    "https://projecteuler.net/problem=2"
   ]
  },
  {
   "cell_type": "code",
   "execution_count": 48,
   "metadata": {},
   "outputs": [
    {
     "data": {
      "text/plain": [
       "4613732"
      ]
     },
     "execution_count": 48,
     "metadata": {},
     "output_type": "execute_result"
    }
   ],
   "source": [
    "# Q2 python\n",
    "\n",
    "first = 1\n",
    "second = 2 \n",
    "total = [1,2]\n",
    "total_sum=0\n",
    "\n",
    "while True:\n",
    "    \n",
    "    sum = first + second\n",
    "    if sum>= 4000000:\n",
    "        break\n",
    "        \n",
    "    total.append(sum)\n",
    "        \n",
    "\n",
    "    \n",
    "    first = second\n",
    "    second = sum\n",
    "    #print(second)\n",
    "    \n",
    "    \n",
    "for i in range(len(total)):\n",
    "    if total[i]%2 ==0:\n",
    "        total_sum = total_sum+ total[i]\n",
    "\n",
    "\n",
    "total_sum"
   ]
  },
  {
   "cell_type": "markdown",
   "metadata": {},
   "source": [
    "### Q3\n",
    "https://projecteuler.net/problem=3"
   ]
  },
  {
   "cell_type": "code",
   "execution_count": 47,
   "metadata": {
    "scrolled": false
   },
   "outputs": [
    {
     "name": "stdout",
     "output_type": "stream",
     "text": [
      "가장 큰 소인수: 6857\n"
     ]
    }
   ],
   "source": [
    "# Q3 python\n",
    "\n",
    "num = 600851475143\n",
    "i = 1\n",
    "while num>1:\n",
    "    i = i+1\n",
    "\n",
    "    while True:\n",
    "        if num % i == 0:\n",
    "            num = num / i \n",
    "        break\n",
    "    \n",
    "    #print('num: {0}, i: {1}'.format(num, i)) 하나하나 확인하고 싶을 때 \n",
    "    if num==1:        \n",
    "        print('가장 큰 소인수: {0}'.format(i))"
   ]
  },
  {
   "cell_type": "markdown",
   "metadata": {},
   "source": [
    "### Q4\n",
    "https://projecteuler.net/problem=4"
   ]
  },
  {
   "cell_type": "code",
   "execution_count": 53,
   "metadata": {},
   "outputs": [],
   "source": [
    "a=1\n",
    "b=2\n",
    "c= 3\n",
    "\n",
    "if (a == 1)&(b == 2) & (c==2):\n",
    "    print('true')"
   ]
  },
  {
   "cell_type": "code",
   "execution_count": 74,
   "metadata": {
    "scrolled": true
   },
   "outputs": [
    {
     "name": "stdout",
     "output_type": "stream",
     "text": [
      "999 & 999\n",
      "906609\n"
     ]
    }
   ],
   "source": [
    "# Q4 python\n",
    "\n",
    "list4 = []\n",
    "# 세 자리 곱 만들기\n",
    "pali=0\n",
    "for a in range(100,1000):\n",
    "    for b in range(100,1000):\n",
    "        mul = a*b\n",
    "        #print('{0} * {1} = {2}'.format(a,b,mul))\n",
    "        \n",
    "        # 대칭수인지 찾기\n",
    "        if 100000 < mul:\n",
    "            char = str(mul)\n",
    "            if (char[0] == char[5])&(char[1] == char[4]) & (char[2] == char[3]):\n",
    "                \n",
    "                list4.append(mul)\n",
    "            \n",
    "\n",
    "print('{0} & {1}'.format(a,b))\n",
    "print(max(list4))"
   ]
  },
  {
   "cell_type": "markdown",
   "metadata": {},
   "source": [
    "### Q5\n",
    "https://projecteuler.net/problem=5"
   ]
  },
  {
   "cell_type": "code",
   "execution_count": 1,
   "metadata": {
    "scrolled": false
   },
   "outputs": [
    {
     "name": "stdout",
     "output_type": "stream",
     "text": [
      "232792560일 때, 20까지 나눔\n"
     ]
    }
   ],
   "source": [
    "# Q5 python\n",
    "\n",
    "i = 10\n",
    "j= 1\n",
    "breaker = False\n",
    "\n",
    "\n",
    "# range(1,21)하면 범위가 너무 넓다. 큰 숫자부터 소인수 관계를 생각하며 일부만 남긴다\n",
    "while True:\n",
    "    i = i+1\n",
    "    for j in [11,13,14,16,17,18,19,20]:\n",
    "        if not i % j ==0:\n",
    "            break\n",
    "        \n",
    "        \n",
    "        if j == 20:\n",
    "            print('{0}일 때, {1}까지 나눔'.format(i,j))\n",
    "            breaker = True\n",
    "                \n",
    "    if breaker == True:\n",
    "        break\n",
    "                \n",
    "    \n",
    "\n",
    "        \n",
    "    \n",
    "            \n",
    "        \n",
    "        \n",
    "    "
   ]
  },
  {
   "attachments": {},
   "cell_type": "markdown",
   "metadata": {},
   "source": [
    "## Q6\n",
    "https://projecteuler.net/problem=6"
   ]
  },
  {
   "cell_type": "code",
   "execution_count": 8,
   "metadata": {},
   "outputs": [
    {
     "name": "stdout",
     "output_type": "stream",
     "text": [
      "25164150\n"
     ]
    }
   ],
   "source": [
    "# Q6 python\n",
    "import numpy as np\n",
    "\n",
    "sum1=0\n",
    "sum2=0\n",
    "for i in range(1,101):\n",
    "    sum1 = sum1+ np.square(i)\n",
    "\n",
    "\n",
    "    sum2 = sum2 + i\n",
    "    \n",
    "square_sum2 = np.square(sum2)\n",
    "\n",
    "answer = square_sum2 - sum1\n",
    "print(answer)"
   ]
  },
  {
   "cell_type": "markdown",
   "metadata": {},
   "source": [
    "### Q7\n",
    "https://projecteuler.net/problem=7"
   ]
  },
  {
   "cell_type": "code",
   "execution_count": 82,
   "metadata": {
    "scrolled": false
   },
   "outputs": [
    {
     "name": "stdout",
     "output_type": "stream",
     "text": [
      "104743\n"
     ]
    }
   ],
   "source": [
    "# Q7 python\n",
    "\n",
    "list7 = []\n",
    "i = 1\n",
    "breaker=False\n",
    "\n",
    "while True:\n",
    "    i = i+1\n",
    "    \n",
    "    for j in range(2,(i+1)):\n",
    "        \n",
    "        if (i%j==0) & (i>j):\n",
    "            break\n",
    "        elif j==i:\n",
    "            list7.append(i)\n",
    "\n",
    "            \n",
    "        if len(list7)==10001:\n",
    "            breaker=True\n",
    "    \n",
    "    if breaker==True:\n",
    "        print(list7[-1])\n",
    "        break\n",
    "        \n",
    "        "
   ]
  },
  {
   "cell_type": "markdown",
   "metadata": {},
   "source": [
    "### Q8\n",
    "https://projecteuler.net/problem=8"
   ]
  },
  {
   "cell_type": "code",
   "execution_count": 124,
   "metadata": {},
   "outputs": [
    {
     "data": {
      "text/plain": [
       "40824"
      ]
     },
     "execution_count": 124,
     "metadata": {},
     "output_type": "execute_result"
    }
   ],
   "source": [
    "# Q8 python\n",
    "\n",
    "num = 7316717653133062491922511967442657474235534919493496983520312774506326239578318016984801869478851843858615607891129494954595017379583319528532088055111254069874715852386305071569329096329522744304355766896648950445244523161731856403098711121722383113622298934233803081353362766142828064444866452387493035890729629049156044077239071381051585930796086670172427121883998797908792274921901699720888093776657273330010533678812202354218097512545405947522435258490771167055601360483958644670632441572215539753697817977846174064955149290862569321978468622482839722413756570560574902614079729686524145351004748216637048440319989000889524345065854122758866688116427171479924442928230863465674813919123162824586178664583591245665294765456828489128831426076900422421902267105562632111110937054421750694165896040807198403850962455444362981230987879927244284909188845801561660979191338754992005240636899125607176060588611646710940507754100225698315520005593572972571636269561882670428252483600823257530420752963450\n",
    "\n",
    "\n",
    "# 숫자를 하나하나의 문자로 변경\n",
    "char = str(num)\n",
    "\n",
    "list8 = []\n",
    "temp = []\n",
    "\n",
    "# 숫자 5개씩 나눔\n",
    "for i in range(996):\n",
    "    count= i*5\n",
    "    list8.append(char[i : i+5])\n",
    "    \n",
    "\n",
    "# 5자리 숫자 곱 구함\n",
    "for j in range(996):\n",
    "    char_num = list8[j]\n",
    "\n",
    "    \n",
    "    num_1 = int(char_num[0])\n",
    "    num_2 = int(char_num[1])\n",
    "    num_3 = int(char_num[2])\n",
    "    num_4 = int(char_num[3])\n",
    "    num_5 = int(char_num[4])\n",
    "    \n",
    "    total = num_1 * num_2 * num_3 * num_4 * num_5\n",
    "    #print('num: {0} , mul:{1}'.format(char_num,total))\n",
    "    temp.append(total)\n",
    "    \n",
    "max(temp)"
   ]
  },
  {
   "attachments": {},
   "cell_type": "markdown",
   "metadata": {},
   "source": [
    "### Q9\n",
    "https://projecteuler.net/problem=9"
   ]
  },
  {
   "cell_type": "code",
   "execution_count": 126,
   "metadata": {},
   "outputs": [
    {
     "name": "stdout",
     "output_type": "stream",
     "text": [
      "a=200, b=375, c=425 & a*b*c= 31875000\n",
      "a=375, b=200, c=425 & a*b*c= 31875000\n"
     ]
    }
   ],
   "source": [
    "# Q9 python\n",
    "\n",
    "for a in range(1,1000):\n",
    "    for b in range(1,1000):\n",
    "        c = 1000-a-b\n",
    "        if ((a*a) + (b*b) == (c*c)) & (a+b+c==1000):\n",
    "            print('a={0}, b={1}, c={2} & a*b*c= {3}'.format(a,b,c,a*b*c))"
   ]
  },
  {
   "cell_type": "markdown",
   "metadata": {},
   "source": [
    "### Q10\n",
    "https://projecteuler.net/problem=10"
   ]
  },
  {
   "cell_type": "code",
   "execution_count": 145,
   "metadata": {},
   "outputs": [
    {
     "data": {
      "text/plain": [
       "1"
      ]
     },
     "execution_count": 145,
     "metadata": {},
     "output_type": "execute_result"
    }
   ],
   "source": [
    "int(math.sqrt(2))"
   ]
  },
  {
   "cell_type": "code",
   "execution_count": 146,
   "metadata": {},
   "outputs": [
    {
     "name": "stdout",
     "output_type": "stream",
     "text": [
      "142913828922\n"
     ]
    }
   ],
   "source": [
    "# Q10 python\n",
    "# 퍼포먼스를 높이기 위해 sqrt()를 사용했더니 소수 2,3이 빠짐... \n",
    "\n",
    "import math\n",
    "\n",
    "list10 = [2,3]\n",
    "i = 1\n",
    "breaker=False\n",
    "\n",
    "while i<= 2000000:\n",
    "    i = i+1\n",
    "    sqrt = int(math.sqrt(i))\n",
    "    \n",
    "    #if i % 50000==0:\n",
    "        #print(\"{0} 지남\".format(i))\n",
    "    \n",
    "    for j in range(2,(sqrt+1)):\n",
    "        \n",
    "        if (i%j==0) & (i>j):\n",
    "            break\n",
    "        elif j==sqrt:\n",
    "            list10.append(i)\n",
    "            \n",
    "\n",
    "\n",
    "        \n",
    "    if i==2000000:\n",
    "        breaker=True\n",
    "    \n",
    "    if breaker==True:\n",
    "        print(sum(list10))\n",
    "        break\n",
    "        "
   ]
  },
  {
   "cell_type": "code",
   "execution_count": null,
   "metadata": {},
   "outputs": [],
   "source": []
  }
 ],
 "metadata": {
  "kernelspec": {
   "display_name": "Python 3",
   "language": "python",
   "name": "python3"
  },
  "language_info": {
   "codemirror_mode": {
    "name": "ipython",
    "version": 3
   },
   "file_extension": ".py",
   "mimetype": "text/x-python",
   "name": "python",
   "nbconvert_exporter": "python",
   "pygments_lexer": "ipython3",
   "version": "3.7.6"
  }
 },
 "nbformat": 4,
 "nbformat_minor": 4
}
